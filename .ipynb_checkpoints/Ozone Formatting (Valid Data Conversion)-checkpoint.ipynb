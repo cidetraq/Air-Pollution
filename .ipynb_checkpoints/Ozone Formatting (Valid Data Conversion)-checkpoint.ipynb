{
 "cells": [
  {
   "cell_type": "code",
   "execution_count": 1,
   "metadata": {},
   "outputs": [],
   "source": [
    "import pandas as pd\n",
    "import numpy as np\n",
    "from pandas import Series, DataFrame\n",
    "from datetime import datetime\n",
    "import time\n",
    "import math"
   ]
  },
  {
   "cell_type": "markdown",
   "metadata": {},
   "source": [
    "<h3>2014-2018</h3>"
   ]
  },
  {
   "cell_type": "code",
   "execution_count": null,
   "metadata": {},
   "outputs": [],
   "source": [
    "year_list = np.arange(2014, 2018).tolist()\n",
    "for year in year_list:\n",
    "    #Importing Data\n",
    "     #filename = \"/project/lindner/moving/summer2018/Pollutant_Data/{}_data_ibh.csv\".format(year)\n",
    "    filename='data00_100000.csv''\n",
    "    #data = pd.read_csv(filename, low_memory=False, nrows=10)\n",
    "    data = pd.read_csv(filename, low_memory=False)\n",
    "    try:\n",
    "        data = original_data.drop('Unnamed: 0', axis = 1)\n",
    "    except:\n",
    "        pass\n",
    "    data['time'] = pd.to_datetime(data['epoch'], unit='s').dt.time\n",
    "    data['date'] = pd.to_datetime(data['epoch'], unit='s').dt.date\n",
    "    data['day'] = pd.to_datetime(data['epoch'], unit='s').dt.day\n",
    "    data['month'] = pd.to_datetime(data['epoch'], unit='s').dt.month\n",
    "    data['year'] = pd.to_datetime(data['epoch'], unit='s').dt.year\n",
    "    data['hour']  = pd.to_datetime(data['epoch'], unit='s').dt.hour\n",
    "    \n",
    "    #List of epoch times\n",
    "    epoch_start = original_data['epoch'].unique().min()\n",
    "    epoch_end = original_data['epoch'].unique().max()\n",
    "    epoch_list = list(np.arange(epoch_start, epoch_end+300, 300))\n",
    "\n",
    "    #import available sites data\n",
    "    site_data = pd.read_csv(\"Valid_sites.csv\")\n",
    "    site_list = list(site_data['O3'].dropna())\n",
    "\n",
    "    try:\n",
    "        site_data = site_data.drop('Unnamed: 0', axis = 1)\n",
    "    except:\n",
    "        pass\n",
    "    \n",
    "    bad_data=data[data['siteID'].isin(site_list)]\n",
    "    data=data.loc[~bad_data]\n",
    "    #conversion of data\n",
    "    data.drop(['redraw','o3_flag', 'temp', 'temp_flag', 'humid', 'humid_flag', 'pm25', ''])\n",
    "    data['site'] = original_data['siteID']\n",
    "    data['o3']=original_data['o3']\n",
    "    data['temp']=original_data['temp']\n",
    "    data['wind_x_dir'] = data['windspd'] * np.cos(data['winddir']*(np.pi/180))\n",
    "    data['wind_y_dir'] = data['windspd'] * np.sin(data['winddir']*(np.pi/180))\n",
    "    data_hour = data.groupby(['year','month','day', 'hour'], as_index=False).mean()\n",
    "    data_hour = data.groupby(['year','month','day', 'hour'], as_index=False).mean()\n",
    "    data_hour.to_csv('/home/narandal/{}_ozone_hourly_ds3.csv'.format(year))"
   ]
  }
 ],
 "metadata": {
  "kernelspec": {
   "display_name": "Python 3",
   "language": "python",
   "name": "python3"
  },
  "language_info": {
   "codemirror_mode": {
    "name": "ipython",
    "version": 3
   },
   "file_extension": ".py",
   "mimetype": "text/x-python",
   "name": "python",
   "nbconvert_exporter": "python",
   "pygments_lexer": "ipython3",
   "version": "3.6.3"
  }
 },
 "nbformat": 4,
 "nbformat_minor": 2
}
