{
 "cells": [
  {
   "cell_type": "code",
   "execution_count": 1,
   "metadata": {},
   "outputs": [],
   "source": [
    "from sklearn.externals import joblib"
   ]
  },
  {
   "cell_type": "code",
   "execution_count": null,
   "metadata": {},
   "outputs": [],
   "source": [
    "joblib_file = \"rf-no-2000.pkl\"  \n",
    "model = joblib.load(joblib_file)\n",
    "\n",
    "import pandas as pd\n",
    "\n",
    "data14=pd.read_csv('Data_2014_pre_no.csv')\n",
    "data15=pd.read_csv('Data_2015_pre_no.csv')\n",
    "data16=pd.read_csv('Data_2016_pre_no.csv')\n",
    "data17=pd.read_csv('Data_2017_pre_no.csv')\n",
    "data=pd.DataFrame()\n",
    "for year in [data14,data15,data16,data17]:\n",
    "    data=pd.concat([data,year])\n",
    "\n",
    "data_strs=data\n",
    "data_strs['day']=data_strs['day'].apply(lambda x: str(x))\n",
    "data_strs['month']=data_strs['month'].apply(lambda x: str(x))\n",
    "data_strs['hour']=data_strs['hour'].apply(lambda x: str(x))\n",
    "data_strs['year']=data_strs['year'].apply(lambda x: str(x))\n",
    "dummies=pd.get_dummies(data_strs)\n",
    "\n",
    "# Use numpy to convert to arrays\n",
    "import numpy as np\n",
    "predictions=model.predict(np.array(data))\n",
    "import pickle\n",
    "pickle.dump(predictions, open('rf-no-predictions-14-17.pkl', 'wb'))"
   ]
  }
 ],
 "metadata": {
  "kernelspec": {
   "display_name": "Python 3",
   "language": "python",
   "name": "python3"
  },
  "language_info": {
   "codemirror_mode": {
    "name": "ipython",
    "version": 3
   },
   "file_extension": ".py",
   "mimetype": "text/x-python",
   "name": "python",
   "nbconvert_exporter": "python",
   "pygments_lexer": "ipython3",
   "version": "3.6.3"
  }
 },
 "nbformat": 4,
 "nbformat_minor": 2
}
