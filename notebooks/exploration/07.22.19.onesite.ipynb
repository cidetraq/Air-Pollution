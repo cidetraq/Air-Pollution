{
 "cells": [
  {
   "cell_type": "code",
   "execution_count": 4,
   "metadata": {},
   "outputs": [],
   "source": [
    "import plac\n",
    "import pandas as pd\n",
    "import numpy as np\n",
    "from sklearn.model_selection import train_test_split\n",
    "from sklearn.preprocessing import MinMaxScaler\n",
    "# Importing the Keras libraries and packages\n",
    "from keras.models import Sequential\n",
    "from keras.layers import Dense\n",
    "from keras.layers import LSTM\n",
    "from keras.layers import Dropout\n",
    "from matplotlib import pyplot"
   ]
  },
  {
   "cell_type": "code",
   "execution_count": null,
   "metadata": {},
   "outputs": [],
   "source": [
    "@plac.annotations(\n",
    "    input_path=(\"Path containing the data files to ingest\", \"option\", \"p\", str),\n",
    "    input_prefix=(\"{$prefix}year.csv\", \"option\", \"P\", str),\n",
    "    input_suffix=(\"year{$suffix}.csv\", \"option\", \"S\", str),\n",
    "    output_path=(\"Path to write the resulting numpy sequences / transform cache\", \"option\", \"o\", str),\n",
    "    year_begin=(\"First year to process\", \"option\", \"b\", int),\n",
    "    year_end=(\"Year to stop with\", \"option\", \"e\", int),\n",
    "    fillgps=(\"Add correct GPS information because it is often missing in Data_structure_3\", \"flag\", \"G\"),\n",
    "    naninvalid=(\"Set invalid col entries to nan\", \"flag\", \"N\"),\n",
    "    dropnan=(\"Drop nan rows\", \"flag\", \"D\"),\n",
    "    masknan=(\"Mask nan rows\", \"option\", \"M\", float),\n",
    "    fillnan=(\"Fill nan rows\", \"option\", \"F\", float),\n",
    "    aqsnumerical=(\"Convert AQS code to numerical\", \"flag\", \"A\"),\n",
    "    houston=(\"Only run for Houston sites\", \"flag\", \"H\"),\n",
    "    chunksize=(\"Process this many records at one time\", \"option\", 'C', int)\n",
    ")\n",
    "def main(input_path: str = '/project/lindner/air-pollution/current/2019/data-formatted/hourly/',\n",
    "         input_prefix: str = \"000_\",\n",
    "         input_suffix: str = \".npy\",\n",
    "         output_path: str = '/project/lindner/air-pollution/current/2019/models',\n",
    "         year_begin: int = 2000,\n",
    "         year_end: int = 2018,\n",
    "         fillgps: bool = False,\n",
    "         naninvalid: bool = False,\n",
    "         dropnan: bool = False,\n",
    "         masknan: float = None,\n",
    "         fillnan: float = None,\n",
    "         aqsnumerical: bool = False,\n",
    "         houston: bool = False,\n",
    "         chunksize: int = 200000):\n",
    "    X = np.load(input_path+input_prefix+\"sequences\"+input_suffix)\n",
    "    y = np.load(input_path+input_prefix+\"labels\"+input_suffix)\n",
    "    # X and y have already been scaled. X is a timeseries, y is the labels (o3)\n",
    "    X_train, X_test, y_train, y_test = train_test_split(X, y, test_size=0.25, random_state=0)\n",
    "    # Initialising the RNN\n",
    "    regressor = Sequential()\n",
    "    #Layers\n",
    "    #input_shape = 3D tensor with shape (batch_size, timesteps, input_dim).\n",
    "    regressor.add(LSTM(25, input_shape =(64,168,16), activation= 'tanh'))\n",
    "    regressor.add(Dense(25, activation='relu')\n",
    "    regressor.add(Dropout(0.2))\n",
    "    regressor.add(Dense(25, activation='relu')\n",
    "    regressor.add(Dropout(0.2))\n",
    "    regressor.add(Dense(25, activation='relu')\n",
    "    regressor.add(Dropout(0.2))\n",
    "    # Adding the output layer\n",
    "    regressor.add(Dense(units = 1))\n",
    "\n",
    "    # Compiling the RNN\n",
    "    regressor.compile(optimizer = 'adam', loss = 'mean_squared_error')\n",
    "\n",
    "    # Fitting the RNN to the Training set\n",
    "    history = model.fit(X_train, y_train, validation_data=(X_test, y_test), epochs=100, verbose=1)\n",
    "    # evaluate the model\n",
    "    train_mse = model.evaluate(X_train, y_train, verbose=0)\n",
    "    test_mse = model.evaluate(X_test, y_test, verbose=0)\n",
    "    print('Train: %.3f, Test: %.3f' % (train_mse, test_mse))\n",
    "    regressor.save(output_path+\"model.h5\")\n",
    "    # plot loss during training\n",
    "    pyplot.title('Loss / Mean Squared Error')\n",
    "    pyplot.plot(history.history['loss'], label='train')\n",
    "    pyplot.plot(history.history['val_loss'], label='test')\n",
    "    pyplot.legend()\n",
    "    pyplot.show()\n",
    "    pyplot.savefig(output_path+\"MSE_of_LSTM_model.png\")"
   ]
  },
  {
   "cell_type": "code",
   "execution_count": null,
   "metadata": {},
   "outputs": [],
   "source": [
    "if __name__ == '__main__':\n",
    "    plac.call(main)"
   ]
  }
 ],
 "metadata": {
  "kernelspec": {
   "display_name": "Python 3",
   "language": "python",
   "name": "python3"
  },
  "language_info": {
   "codemirror_mode": {
    "name": "ipython",
    "version": 3
   },
   "file_extension": ".py",
   "mimetype": "text/x-python",
   "name": "python",
   "nbconvert_exporter": "python",
   "pygments_lexer": "ipython3",
   "version": "3.7.3"
  }
 },
 "nbformat": 4,
 "nbformat_minor": 2
}
