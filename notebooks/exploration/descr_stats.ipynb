{
 "cells": [
  {
   "cell_type": "markdown",
   "metadata": {},
   "source": [
    "<h2>Preliminary analysis"
   ]
  },
  {
   "cell_type": "markdown",
   "metadata": {},
   "source": [
    "<H1>06.12.19: This not up to date with .py script"
   ]
  },
  {
   "cell_type": "code",
   "execution_count": 1,
   "metadata": {},
   "outputs": [],
   "source": [
    "import pandas as pd\n",
    "import numpy as np\n",
    "import matplotlib.pyplot as plt\n",
    "from pandas.api.types import is_numeric_dtype"
   ]
  },
  {
   "cell_type": "markdown",
   "metadata": {},
   "source": [
    "apply the datetime operations\n",
    "\n",
    "Stats: Range, median, average, Q1, Q3, histograms, density plot, percent missing data, total size of dataset\n",
    "\n",
    "(For each year 2000-2017)"
   ]
  },
  {
   "cell_type": "code",
   "execution_count": 19,
   "metadata": {},
   "outputs": [],
   "source": [
    "def find_xlim(series):\n",
    "    if is_numeric_dtype(series):\n",
    "        return series.median()+3*cleaned[col].std() \n",
    "    else:\n",
    "        return max(series)"
   ]
  },
  {
   "cell_type": "code",
   "execution_count": null,
   "metadata": {},
   "outputs": [],
   "source": [
    "def get_higho3_days(df):\n",
    "    high_fiveminutes = df[df['o3'] > 40]\n",
    "    fiveminutes_daymonths = high_fiveminutes[['day', 'month']]\n",
    "    high_o3_index = df[['day', 'month']].isin(fiveminutes_daymonths)\n",
    "    high_o3_days = df.iloc[high_o3[high_o3['day'] == True].index]\n",
    "    return high_o3_days\n"
   ]
  },
  {
   "cell_type": "code",
   "execution_count": null,
   "metadata": {},
   "outputs": [],
   "source": [
    "\n",
    "@plac.annotations(\n",
    "    input_path=(\"Path containing the data files to ingest\", \"option\", \"p\", str),\n",
    "    input_prefix=(\"{$prefix}year.csv\", \"option\", \"P\", str),\n",
    "    input_suffix=(\"year{$suffix}.csv\", \"option\", \"S\", str),\n",
    "    output_path=(\"Path to write the resulting numpy sequences / transform cache\", \"option\", \"o\", str),\n",
    "    year_begin=(\"First year to process\", \"option\", \"b\", int),\n",
    "    year_end=(\"Year to stop with\", \"option\", \"e\", int),\n",
    "    aqsnumerical=(\"Convert AQS code to numerical\", \"flag\", \"A\"),\n",
    "    houston=(\"Only run for Houston sites\", \"flag\", \"H\"),\n",
    "    chunksize=(\"Process this many records at one time\", \"option\", 'C', int)\n",
    ")\n",
    "def main(input_path: str = '/project/lindner/air-pollution/level3_data/',\n",
    "         input_prefix: str = \"Data_\",\n",
    "         input_suffix: str = \"\",\n",
    "         output_path: str = '/project/lindner/air-pollution/current/2019/descriptive-output/',\n",
    "         year_begin: int = 2000,\n",
    "         year_end: int = 2018,\n",
    "         aqsnumerical: bool = False,\n",
    "         houston: bool = False,\n",
    "         chunksize: int = 200000):\n",
    "    \n",
    "    all_years = []\n",
    "    #for now just one file, later all years\n",
    "    for year in range(year_begin,year_end):\n",
    "        all_years.append(pd.read_csv(input_path+input_prefix+str(year)+\".csv\"))\n",
    "    for index, df in enumerate(all_years):\n",
    "        #Time series\n",
    "        df['hour'] = pd.to_datetime(df['epoch'], unit='s').dt.hour\n",
    "        df['day'] = pd.to_datetime(df['epoch'], unit='s').dt.day\n",
    "        df['month'] = pd.to_datetime(df['epoch'], unit='s').dt.month\n",
    "        daytime = df[(df['hour'] > 6) & (df['hour'] < 20)]\n",
    "        nighttime = df[(df['hour'] < 7) | (df['hour'] > 20)]\n",
    "        highpol_months = df[(df['month'] >3) & (df['month'] < 11)]\n",
    "        higho3_days = get_higho3_days(df)\n",
    "        subsets = {\"df\":df, \"daytime\":daytime, \"nighttime\":nighttime, \"highpol_months\":highpol_months, \"higho3_days\":higho3_days}\n",
    "        analyze(subsets, index, output_path)\n"
   ]
  },
  {
   "cell_type": "code",
   "execution_count": null,
   "metadata": {},
   "outputs": [],
   "source": [
    "if __name__ == '__main__':\n",
    "    plac.call(main)"
   ]
  },
  {
   "cell_type": "markdown",
   "metadata": {},
   "source": [
    "<h2>Site-wise analysis</h2>\n",
    "\n",
    "To get site-wise analysis, run the same code on each generated site data file (each will contain all years). "
   ]
  }
 ],
 "metadata": {
  "kernelspec": {
   "display_name": "Python 3",
   "language": "python",
   "name": "python3"
  },
  "language_info": {
   "codemirror_mode": {
    "name": "ipython",
    "version": 3
   },
   "file_extension": ".py",
   "mimetype": "text/x-python",
   "name": "python",
   "nbconvert_exporter": "python",
   "pygments_lexer": "ipython3",
   "version": "3.7.1"
  }
 },
 "nbformat": 4,
 "nbformat_minor": 2
}
