{
 "cells": [
  {
   "cell_type": "code",
   "execution_count": null,
   "metadata": {},
   "outputs": [],
   "source": [
    "import pandas as pd\n",
    "all_years = []\n",
    "for year in range(2000,2018):\n",
    "    all_years.append(pd.read_csv('blahblah'+str(year)+\".csv\"))"
   ]
  },
  {
   "cell_type": "markdown",
   "metadata": {},
   "source": [
    "apply the datetime operations\n",
    "\n",
    "Stats: Range, median, average, Q1, Q3, histograms, density plot, percent missing data, total size of dataset\n",
    "\n",
    "(For each year 2000-2017)"
   ]
  },
  {
   "cell_type": "code",
   "execution_count": null,
   "metadata": {},
   "outputs": [],
   "source": [
    "for df in all_years:\n",
    "    #do all stats, by year\n",
    "    descr_stats = df.describe(include='all')\n",
    "    #documentation here: https://pandas.pydata.org/pandas-docs/stable/reference/api/pandas.DataFrame.describe.html\n",
    "    descr_stats.to_csv('output_path+output_name')\n",
    "    hist = df.hist()\n",
    "    #default is 10 bins for each plot\n",
    "    for column in df.columns:\n",
    "        "
   ]
  }
 ],
 "metadata": {
  "kernelspec": {
   "display_name": "Python 3",
   "language": "python",
   "name": "python3"
  },
  "language_info": {
   "codemirror_mode": {
    "name": "ipython",
    "version": 3
   },
   "file_extension": ".py",
   "mimetype": "text/x-python",
   "name": "python",
   "nbconvert_exporter": "python",
   "pygments_lexer": "ipython3",
   "version": "3.7.1"
  }
 },
 "nbformat": 4,
 "nbformat_minor": 2
}
