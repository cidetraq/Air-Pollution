{
 "cells": [
  {
   "cell_type": "code",
   "execution_count": null,
   "metadata": {},
   "outputs": [],
   "source": [
    "from sklearn.externals import joblib\n",
    "joblib_file = \"rf-no-all-2000.pkl\"  \n",
    "model = joblib.load(joblib_file)\n",
    "import pandas as pd"
   ]
  },
  {
   "cell_type": "markdown",
   "metadata": {},
   "source": [
    "#Imputing for years with mostly unknown nox\n",
    "data14=pd.read_csv('Data_2014_pre_no.csv')\n",
    "data15=pd.read_csv('Data_2015_pre_no.csv')\n",
    "data16=pd.read_csv('Data_2016_pre_no.csv')\n",
    "data17=pd.read_csv('Data_2017_pre_no.csv')\n",
    "data=pd.DataFrame()\n",
    "for year in [data14,data15,data16,data17]:\n",
    "    data=pd.concat([data,year])"
   ]
  },
  {
   "cell_type": "code",
   "execution_count": null,
   "metadata": {},
   "outputs": [],
   "source": [
    "#Predicting for year with existing nox data\n",
    "#data=pd.read_csv('Data_2013_ready.csv')\n",
    "\n",
    "#Local\n",
    "data=pd.read_csv('data13_100000.csv')"
   ]
  },
  {
   "cell_type": "code",
   "execution_count": null,
   "metadata": {},
   "outputs": [],
   "source": [
    "try:\n",
    "    data=data[data['month']!='month']\n",
    "    data=data[data['day']!='day']\n",
    "    data=data[data['hour']!='hour']\n",
    "except BaseException:\n",
    "    pass"
   ]
  },
  {
   "cell_type": "code",
   "execution_count": null,
   "metadata": {},
   "outputs": [],
   "source": [
    "data_strs['day']=data_strs['day'].apply(lambda x: str(x))\n",
    "data_strs['month']=data_strs['month'].apply(lambda x: str(x))\n",
    "data_strs['hour']=data_strs['hour'].apply(lambda x: str(x))\n",
    "dummies=pd.get_dummies(data_strs)\n",
    "\n",
    "# Use numpy to convert to arrays\n",
    "import numpy as np\n",
    "predictions=model.predict(np.array(data))\n",
    "import pickle\n",
    "pickle.dump(predictions, open('rf-no-predictions-14-17.pkl', 'wb'))"
   ]
  }
 ],
 "metadata": {
  "kernelspec": {
   "display_name": "Python 3",
   "language": "python",
   "name": "python3"
  },
  "language_info": {
   "codemirror_mode": {
    "name": "ipython",
    "version": 3
   },
   "file_extension": ".py",
   "mimetype": "text/x-python",
   "name": "python",
   "nbconvert_exporter": "python",
   "pygments_lexer": "ipython3",
   "version": "3.6.3"
  }
 },
 "nbformat": 4,
 "nbformat_minor": 2
}
