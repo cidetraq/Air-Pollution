{
 "cells": [
  {
   "cell_type": "code",
   "execution_count": 6,
   "metadata": {},
   "outputs": [
    {
     "name": "stderr",
     "output_type": "stream",
     "text": [
      "/Users/carroll/anaconda3/envs/pollen/lib/python3.6/site-packages/sklearn/preprocessing/data.py:323: DataConversionWarning: Data with input dtype int64, float64 were all converted to float64 by MinMaxScaler.\n",
      "  return self.partial_fit(X, y)\n"
     ]
    }
   ],
   "source": [
    "%matplotlib inline\n",
    "import pandas\n",
    "import matplotlib\n",
    "import numpy as np\n",
    "from collections import deque\n",
    "import matplotlib.pyplot as plt\n",
    "from sklearn.preprocessing import MinMaxScaler\n",
    "\n",
    "columns = ['hour', 'last_windspd', 'last_no', 'last_no2', 'last_nox', 'last_o3', 'no', 'no2', 'nox', 'o3']\n",
    "\n",
    "plt.rcParams[\"figure.figsize\"] = (20, 12)\n",
    "plt.rcParams.update({'font.size': 22})\n",
    "\n",
    "df = pandas.read_csv('data00_100000_clean.csv')\n",
    "df = df.drop(['AQS_Code', 'Latitude', 'Longitude', 'epoch', 'winddir', 'time', 'date', 'day'], axis=1)\n",
    "df['last_windspd'] = df['windspd'].shift(1)\n",
    "df['last_no'] = df['no'].shift(1)\n",
    "df['last_no2'] = df['no2'].shift(1)\n",
    "df['last_nox'] = df['nox'].shift(1)\n",
    "df['last_o3'] = df['o3'].shift(1)\n",
    "df = df.drop(df.index[[0]])\n",
    "\n",
    "scaler = MinMaxScaler()\n",
    "scaler.fit(df[columns])\n",
    "\n",
    "df = scaler.transform(df[columns])\n",
    "\n",
    "# Create sequences\n",
    "sequence_length = int(60*12/5)\n",
    "num_inputs = 6\n",
    "num_outputs = 4\n",
    "\n",
    "\n",
    "data = []\n",
    "labels = []\n",
    "\n",
    "rows = deque(maxlen=sequence_length)\n",
    "\n",
    "for idx, r in enumerate(df):\n",
    "\n",
    "    rows.append([r[0], r[1], r[2], r[3], r[4], r[5]])\n",
    "    \n",
    "    if len(rows) < sequence_length:\n",
    "        continue\n",
    "        \n",
    "    data.append(rows.copy())\n",
    "    \n",
    "    labels.append([r[6], r[7], r[8], r[9]])\n",
    "\n",
    "data = np.array(data)\n",
    "labels = np.array(labels)"
   ]
  },
  {
   "cell_type": "code",
   "execution_count": null,
   "metadata": {},
   "outputs": [
    {
     "name": "stdout",
     "output_type": "stream",
     "text": [
      "_________________________________________________________________\n",
      "Layer (type)                 Output Shape              Param #   \n",
      "=================================================================\n",
      "dense_10 (Dense)             (None, 144, 6)            42        \n",
      "_________________________________________________________________\n",
      "lstm_4 (LSTM)                (None, 128)               69120     \n",
      "_________________________________________________________________\n",
      "dense_11 (Dense)             (None, 256)               33024     \n",
      "_________________________________________________________________\n",
      "dense_12 (Dense)             (None, 4)                 1028      \n",
      "=================================================================\n",
      "Total params: 103,214\n",
      "Trainable params: 103,214\n",
      "Non-trainable params: 0\n",
      "_________________________________________________________________\n",
      "Train on 56463 samples, validate on 27811 samples\n",
      "Epoch 1/20\n",
      "56463/56463 [==============================] - 480s 8ms/step - loss: 7.4419e-04 - r2_keras: 0.8721 - val_loss: 6.2108e-04 - val_r2_keras: 0.8222\n",
      "Epoch 2/20\n",
      "45184/56463 [=======================>......] - ETA: 1:24 - loss: 2.9952e-04 - r2_keras: 0.9479"
     ]
    }
   ],
   "source": [
    "from keras.models import Sequential\n",
    "from keras.layers import Dense, LSTM\n",
    "import os\n",
    "os.environ['KMP_DUPLICATE_LIB_OK'] = 'True'\n",
    "\n",
    "# custom R2-score metrics for keras backend\n",
    "from keras import backend as K\n",
    "\n",
    "def r2_keras(y_true, y_pred):\n",
    "    SS_res =  K.sum(K.square(y_true - y_pred)) \n",
    "    SS_tot = K.sum(K.square(y_true - K.mean(y_true))) \n",
    "    return ( 1 - SS_res/(SS_tot + K.epsilon()) )\n",
    "\n",
    "model = Sequential()\n",
    "model.add(Dense(num_inputs, input_shape=(sequence_length,num_inputs)))\n",
    "model.add(LSTM(128, return_sequences=False, dropout=0.2))\n",
    "model.add(Dense(256, activation='relu'))\n",
    "model.add(Dense(num_outputs))\n",
    "model.compile(optimizer='adam', loss='mean_squared_error', metrics=[r2_keras])\n",
    "model.summary()\n",
    "\n",
    "model.fit(x=data, y=labels, batch_size=128, epochs=20, validation_split=0.33, verbose=True)"
   ]
  },
  {
   "cell_type": "code",
   "execution_count": null,
   "metadata": {},
   "outputs": [],
   "source": []
  }
 ],
 "metadata": {
  "kernelspec": {
   "display_name": "Python 3",
   "language": "python",
   "name": "python3"
  },
  "language_info": {
   "codemirror_mode": {
    "name": "ipython",
    "version": 3
   },
   "file_extension": ".py",
   "mimetype": "text/x-python",
   "name": "python",
   "nbconvert_exporter": "python",
   "pygments_lexer": "ipython3",
   "version": "3.6.7"
  }
 },
 "nbformat": 4,
 "nbformat_minor": 2
}
