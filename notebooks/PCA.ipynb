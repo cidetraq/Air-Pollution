{
 "cells": [
  {
   "cell_type": "code",
   "execution_count": 1,
   "metadata": {},
   "outputs": [],
   "source": [
    "from sklearn.preprocessing import MinMaxScaler\n",
    "from sklearn.decomposition import PCA\n",
    "import numpy as np"
   ]
  },
  {
   "cell_type": "code",
   "execution_count": 2,
   "metadata": {},
   "outputs": [],
   "source": [
    "profiles={'cluster': \n",
    "          {'in_path': '/project/lindner/moving/summer2018/2019/data-formatted/parallel/', \n",
    "           'out_path':'/project/lindner/moving/summer2018/2019/data-intermediate/new-seqs/'},\n",
    "          'nicholas': {'in_path':'D:/programming-no-gdrive/air-pollution/data-intermediate/',\n",
    "                       'out_path':'D:/programming-no-gdrive/air-pollution/data-intermediate/new_seqs/'}}"
   ]
  },
  {
   "cell_type": "code",
   "execution_count": 3,
   "metadata": {},
   "outputs": [
    {
     "data": {
      "text/plain": [
       "(123431, 81)"
      ]
     },
     "execution_count": 3,
     "metadata": {},
     "output_type": "execute_result"
    }
   ],
   "source": [
    "user='cluster'\n",
    "in_path=profiles[user]['in_path']\n",
    "#nd=np.load(open(in_path+'windowed_2000.pkl', 'rb'))\n",
    "nd.shape"
   ]
  },
  {
   "cell_type": "code",
   "execution_count": 4,
   "metadata": {},
   "outputs": [],
   "source": [
    "#Scale data\n",
    "scaler=MinMaxScaler()\n",
    "nd=scaler.fit_transform(nd)"
   ]
  },
  {
   "cell_type": "markdown",
   "metadata": {},
   "source": [
    "#PCA\n",
    "for n_components in range(4,40,4):\n",
    "    pca=PCA(n_components)\n",
    "    pca.fit(nd)\n",
    "    #nd_reduced=pca.transform(nd)\n",
    "    print(str(n_components)+' components:')\n",
    "    print(pca.explained_variance_)"
   ]
  },
  {
   "cell_type": "code",
   "execution_count": 5,
   "metadata": {},
   "outputs": [],
   "source": [
    "if user=='cluster':\n",
    "    from parallel-scripts.processor_pipeline_nicholas import SequenceBuilder\n",
    "    import parallel-scripts.d"
   ]
  },
  {
   "cell_type": "code",
   "execution_count": 6,
   "metadata": {},
   "outputs": [],
   "source": [
    "builder=SequenceBuilder(sequence_length=d.SEQUENCE_LENGTH, prediction_window=d.PREDICTION_WINDOW, prediction_names=d.OUTPUT_COLUMNS)\n",
    "sequences=builder.process(nd)"
   ]
  },
  {
   "cell_type": "code",
   "execution_count": 9,
   "metadata": {},
   "outputs": [],
   "source": [
    "#Reshaping\n",
    "sequences = sequences.reshape(sequences.shape[0], sequences.shape[1]*sequences.shape[2])"
   ]
  },
  {
   "cell_type": "code",
   "execution_count": null,
   "metadata": {},
   "outputs": [
    {
     "name": "stdout",
     "output_type": "stream",
     "text": [
      "4 components:\n",
      "[30.11042851 28.39299529 20.97913025 18.22729085]\n",
      "8 components:\n",
      "[30.11042851 28.39299529 20.97913025 18.22729096 16.16943466 15.38960685\n",
      " 14.84387249 13.95169448]\n",
      "12 components:\n",
      "[30.11042851 28.39299529 20.97913027 18.22729104 16.1694351  15.38960724\n",
      " 14.84387325 13.95170617 13.0549119  11.99650839 11.24155015 10.63478005]\n"
     ]
    }
   ],
   "source": [
    "#PCA on sequences\n",
    "for n_components in range(4,40,4):\n",
    "    pca=PCA(n_components)\n",
    "    pca.fit(sequences)\n",
    "    #nd_reduced=pca.transform(nd)\n",
    "    print(str(n_components)+' components:')\n",
    "    print(pca.explained_variance_)"
   ]
  }
 ],
 "metadata": {
  "kernelspec": {
   "display_name": "Python [conda env:deep-learning]",
   "language": "python",
   "name": "conda-env-deep-learning-py"
  },
  "language_info": {
   "codemirror_mode": {
    "name": "ipython",
    "version": 3
   },
   "file_extension": ".py",
   "mimetype": "text/x-python",
   "name": "python",
   "nbconvert_exporter": "python",
   "pygments_lexer": "ipython3",
   "version": "3.6.7"
  }
 },
 "nbformat": 4,
 "nbformat_minor": 2
}
