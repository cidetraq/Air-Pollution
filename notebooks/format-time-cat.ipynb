{
 "cells": [
  {
   "cell_type": "code",
   "execution_count": null,
   "metadata": {},
   "outputs": [],
   "source": [
    "import pandas as pd\n",
    "import argparse "
   ]
  },
  {
   "cell_type": "markdown",
   "metadata": {},
   "source": [
    "if __name__=='__main__':\n",
    "    parser = argparse.ArgumentParser()\n",
    "    parser.add_argument(\"-u\", '--user', type=str,\n",
    "                        help=\"cluster, nicholas, carroll\")\n",
    "    parser.add_argument(\"-v\", \"--verbosity\", type=int, choices=[0, 1, 2],\n",
    "                        help=\"increase output verbosity\")\n",
    "    parser.add_argument('-y', '--years', type=str, help='type year range. full would be 2000-2018')\n",
    "    args = parser.parse_args()\n",
    "    main(args.user, args.years)"
   ]
  },
  {
   "cell_type": "code",
   "execution_count": null,
   "metadata": {},
   "outputs": [],
   "source": [
    "def time_cat(data):\n",
    "    data['month']=data['month'].apply(lambda x: str(x))\n",
    "    data['hour']=data['hour'].apply(lambda x: str(x))\n",
    "    data['day']=data['day'].apply(lambda x: str(x))\n",
    "    pre_dummies=pd.concat([data['hour'], data['day'], data['month']], axis=1)\n",
    "    dummies=pd.get_dummies(pre_dummies)\n",
    "    data=pd.concat([data, dummies], axis=1)\n",
    "    data=data.drop_duplicates()\n",
    "    data=data.drop(['hour', 'day', 'month'], axis=1)\n",
    "    return data"
   ]
  },
  {
   "cell_type": "markdown",
   "metadata": {},
   "source": [
    "if __name__==\"__main__\":\n",
    "    "
   ]
  }
 ],
 "metadata": {
  "kernelspec": {
   "display_name": "Python 3",
   "language": "python",
   "name": "python3"
  },
  "language_info": {
   "codemirror_mode": {
    "name": "ipython",
    "version": 3
   },
   "file_extension": ".py",
   "mimetype": "text/x-python",
   "name": "python",
   "nbconvert_exporter": "python",
   "pygments_lexer": "ipython3",
   "version": "3.7.1"
  }
 },
 "nbformat": 4,
 "nbformat_minor": 2
}
