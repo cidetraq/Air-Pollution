{
 "cells": [
  {
   "cell_type": "code",
   "execution_count": 1,
   "metadata": {},
   "outputs": [],
   "source": [
    "import pandas as pd\n",
    "import numpy as np"
   ]
  },
  {
   "cell_type": "code",
   "execution_count": 2,
   "metadata": {},
   "outputs": [],
   "source": [
    "houston_ids_pre=[482010051,482010558,482010572,482010551,482016000,482010669,482010695,482010307,482010670,482010673,482010671,482010069,482011035,482010057,482011049,482010803,482011034,482011052,482010024]\n",
    "def format_AQS(ids):\n",
    "    new_ids=[]\n",
    "    for hou in houston_ids_pre: \n",
    "        hou=list(str(hou))\n",
    "        hou.insert(2, '_')\n",
    "        hou.insert(7, '_')\n",
    "        hou=\"\".join(hou)\n",
    "        new_ids.append(hou)\n",
    "    return new_ids"
   ]
  },
  {
   "cell_type": "code",
   "execution_count": 3,
   "metadata": {},
   "outputs": [],
   "source": [
    "houston_ids=format_AQS(houston_ids_pre)\n",
    "index=np.arange(len(houston_ids))\n",
    "houston_df=pd.DataFrame(pd.Series(houston_ids), index=index, columns=['AQS_Code'])"
   ]
  },
  {
   "cell_type": "code",
   "execution_count": 30,
   "metadata": {},
   "outputs": [
    {
     "data": {
      "text/plain": [
       "0     48_2010_051\n",
       "1     48_2010_558\n",
       "2     48_2010_572\n",
       "3     48_2010_551\n",
       "4     48_2016_000\n",
       "5     48_2010_669\n",
       "6     48_2010_695\n",
       "7     48_2010_307\n",
       "8     48_2010_670\n",
       "9     48_2010_673\n",
       "10    48_2010_671\n",
       "11    48_2010_069\n",
       "12    48_2011_035\n",
       "13    48_2010_057\n",
       "14    48_2011_049\n",
       "15    48_2010_803\n",
       "16    48_2011_034\n",
       "17    48_2011_052\n",
       "18    48_2010_024\n",
       "dtype: object"
      ]
     },
     "execution_count": 30,
     "metadata": {},
     "output_type": "execute_result"
    }
   ],
   "source": [
    "pd.Series(houston_ids)"
   ]
  },
  {
   "cell_type": "code",
   "execution_count": 4,
   "metadata": {},
   "outputs": [
    {
     "data": {
      "text/html": [
       "<div>\n",
       "<style scoped>\n",
       "    .dataframe tbody tr th:only-of-type {\n",
       "        vertical-align: middle;\n",
       "    }\n",
       "\n",
       "    .dataframe tbody tr th {\n",
       "        vertical-align: top;\n",
       "    }\n",
       "\n",
       "    .dataframe thead th {\n",
       "        text-align: right;\n",
       "    }\n",
       "</style>\n",
       "<table border=\"1\" class=\"dataframe\">\n",
       "  <thead>\n",
       "    <tr style=\"text-align: right;\">\n",
       "      <th></th>\n",
       "      <th>AQS_Code</th>\n",
       "    </tr>\n",
       "  </thead>\n",
       "  <tbody>\n",
       "    <tr>\n",
       "      <th>0</th>\n",
       "      <td>48_2010_051</td>\n",
       "    </tr>\n",
       "    <tr>\n",
       "      <th>1</th>\n",
       "      <td>48_2010_558</td>\n",
       "    </tr>\n",
       "    <tr>\n",
       "      <th>2</th>\n",
       "      <td>48_2010_572</td>\n",
       "    </tr>\n",
       "    <tr>\n",
       "      <th>3</th>\n",
       "      <td>48_2010_551</td>\n",
       "    </tr>\n",
       "    <tr>\n",
       "      <th>4</th>\n",
       "      <td>48_2016_000</td>\n",
       "    </tr>\n",
       "    <tr>\n",
       "      <th>5</th>\n",
       "      <td>48_2010_669</td>\n",
       "    </tr>\n",
       "    <tr>\n",
       "      <th>6</th>\n",
       "      <td>48_2010_695</td>\n",
       "    </tr>\n",
       "    <tr>\n",
       "      <th>7</th>\n",
       "      <td>48_2010_307</td>\n",
       "    </tr>\n",
       "    <tr>\n",
       "      <th>8</th>\n",
       "      <td>48_2010_670</td>\n",
       "    </tr>\n",
       "    <tr>\n",
       "      <th>9</th>\n",
       "      <td>48_2010_673</td>\n",
       "    </tr>\n",
       "    <tr>\n",
       "      <th>10</th>\n",
       "      <td>48_2010_671</td>\n",
       "    </tr>\n",
       "    <tr>\n",
       "      <th>11</th>\n",
       "      <td>48_2010_069</td>\n",
       "    </tr>\n",
       "    <tr>\n",
       "      <th>12</th>\n",
       "      <td>48_2011_035</td>\n",
       "    </tr>\n",
       "    <tr>\n",
       "      <th>13</th>\n",
       "      <td>48_2010_057</td>\n",
       "    </tr>\n",
       "    <tr>\n",
       "      <th>14</th>\n",
       "      <td>48_2011_049</td>\n",
       "    </tr>\n",
       "    <tr>\n",
       "      <th>15</th>\n",
       "      <td>48_2010_803</td>\n",
       "    </tr>\n",
       "    <tr>\n",
       "      <th>16</th>\n",
       "      <td>48_2011_034</td>\n",
       "    </tr>\n",
       "    <tr>\n",
       "      <th>17</th>\n",
       "      <td>48_2011_052</td>\n",
       "    </tr>\n",
       "    <tr>\n",
       "      <th>18</th>\n",
       "      <td>48_2010_024</td>\n",
       "    </tr>\n",
       "  </tbody>\n",
       "</table>\n",
       "</div>"
      ],
      "text/plain": [
       "       AQS_Code\n",
       "0   48_2010_051\n",
       "1   48_2010_558\n",
       "2   48_2010_572\n",
       "3   48_2010_551\n",
       "4   48_2016_000\n",
       "5   48_2010_669\n",
       "6   48_2010_695\n",
       "7   48_2010_307\n",
       "8   48_2010_670\n",
       "9   48_2010_673\n",
       "10  48_2010_671\n",
       "11  48_2010_069\n",
       "12  48_2011_035\n",
       "13  48_2010_057\n",
       "14  48_2011_049\n",
       "15  48_2010_803\n",
       "16  48_2011_034\n",
       "17  48_2011_052\n",
       "18  48_2010_024"
      ]
     },
     "execution_count": 4,
     "metadata": {},
     "output_type": "execute_result"
    }
   ],
   "source": [
    "houston_df"
   ]
  },
  {
   "cell_type": "code",
   "execution_count": 6,
   "metadata": {},
   "outputs": [],
   "source": [
    "def houston_site(code):\n",
    "    if code in houston_ids:\n",
    "        return True\n",
    "    \n",
    "houston_df['houston_site']=houston_df['AQS_Code'].apply(houston_site)"
   ]
  }
 ],
 "metadata": {
  "kernelspec": {
   "display_name": "Python [conda env:deep-learning]",
   "language": "python",
   "name": "conda-env-deep-learning-py"
  },
  "language_info": {
   "codemirror_mode": {
    "name": "ipython",
    "version": 3
   },
   "file_extension": ".py",
   "mimetype": "text/x-python",
   "name": "python",
   "nbconvert_exporter": "python",
   "pygments_lexer": "ipython3",
   "version": "3.6.7"
  }
 },
 "nbformat": 4,
 "nbformat_minor": 2
}
