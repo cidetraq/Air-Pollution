{
 "cells": [
  {
   "cell_type": "code",
   "execution_count": null,
   "metadata": {},
   "outputs": [],
   "source": [
    "import pandas as pd"
   ]
  },
  {
   "cell_type": "code",
   "execution_count": null,
   "metadata": {},
   "outputs": [],
   "source": [
    "def time_cat(data):\n",
    "    data['month']=data['month'].apply(lambda x: str(x))\n",
    "    data['hour']=data['hour'].apply(lambda x: str(x))\n",
    "    data['day']=data['day'].apply(lambda x: str(x))\n",
    "    pre_dummies=pd.concat([data['hour'], data['day'], data['month']], axis=1)\n",
    "    dummies=pd.get_dummies(pre_dummies)\n",
    "    data=pd.concat([data, dummies], axis=1)\n",
    "    data=data.drop_duplicates()\n",
    "    data=data.drop(['hour', 'day', 'month'], axis=1)\n",
    "    return data"
   ]
  }
 ],
 "metadata": {
  "kernelspec": {
   "display_name": "Python 3",
   "language": "python",
   "name": "python3"
  },
  "language_info": {
   "codemirror_mode": {
    "name": "ipython",
    "version": 3
   },
   "file_extension": ".py",
   "mimetype": "text/x-python",
   "name": "python",
   "nbconvert_exporter": "python",
   "pygments_lexer": "ipython3",
   "version": "3.7.1"
  }
 },
 "nbformat": 4,
 "nbformat_minor": 2
}
