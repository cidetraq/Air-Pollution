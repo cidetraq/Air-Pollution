{
 "cells": [
  {
   "cell_type": "code",
   "execution_count": 1,
   "metadata": {},
   "outputs": [],
   "source": [
    "import pandas as pd\n",
    "import numpy as np"
   ]
  },
  {
   "cell_type": "code",
   "execution_count": 2,
   "metadata": {},
   "outputs": [],
   "source": [
    "import os\n",
    "#local\n",
    "os.chdir('../')"
   ]
  },
  {
   "cell_type": "code",
   "execution_count": 49,
   "metadata": {},
   "outputs": [],
   "source": [
    "#Cluster\n",
    "#source_path='/project/lindner/moving/summer2018/Data_structure_3/'\n",
    "#local\n",
    "#source_path='D:\\programming-no-gdrive\\air-pollution\\data\\''\n",
    "#Local test\n",
    "source_path=\"D:/programming-no-gdrive/DASH/Air Pollution/data-sample/100k/\"\n",
    "#Cluster\n",
    "#out_path='/project/lindner/moving/summer2018/2019/data-formatted/mark/'\n",
    "#local\n",
    "out_path='D:/programming-no-gdrive/air-pollution/data-formatted/mark/'"
   ]
  },
  {
   "cell_type": "code",
   "execution_count": 34,
   "metadata": {},
   "outputs": [],
   "source": [
    "def transform(source_path,year):\n",
    "    #filename='Data_'+str(year)+'.csv'\n",
    "    #Local test\n",
    "    filename='data00_100000.csv'\n",
    "    data=pd.read_csv(source_path+filename)\n",
    "    data['hour']  = pd.to_datetime(data['epoch'], unit='s').dt.hour\n",
    "    data['day'] = pd.to_datetime(data['epoch'], unit='s').dt.day\n",
    "    data['month'] = pd.to_datetime(data['epoch'], unit='s').dt.month\n",
    "    data['year'] = str(year)\n",
    "    data['wind_x_dir'] = data['windspd'] * np.cos(data['winddir']*(np.pi/180))\n",
    "    data['wind_y_dir'] = data['windspd'] * np.sin(data['winddir']*(np.pi/180))\n",
    "    orig=data\n",
    "    if year<2014:\n",
    "        data=data[data['nox_flag']=='VAL']\n",
    "        print('Year: '+str(year)+ ' '+'Initial length of data: ')\n",
    "        print(len(data))\n",
    "        data=data[data['no_flag']=='VAL']\n",
    "        print('Year: '+str(year)+ ' '+'Length after o3 restriction: ')\n",
    "        print(len(data))\n",
    "        data=data[data['o3_flag']==\"VAL\"]\n",
    "        print('Year: '+str(year)+ ' '+\"Length after temp flag restriction: \")\n",
    "        print(len(data))\n",
    "        data=data[data['temp_flag']==\"VAL\"]\n",
    "        data=data[~data['winddir'].isna()]\n",
    "    if year>=2014:\n",
    "        print('Year: '+str(year)+ ' '+'Initial length of data: ')\n",
    "        print(len(data))\n",
    "        data=data[data['o3_flag']==\"K\"]\n",
    "        print('Year: '+str(year)+ ' '+'Length after o3 restriction: ')\n",
    "        print(len(data))\n",
    "        data=data[data['temp_flag']==\"K\"]\n",
    "        print('Year: '+str(year)+ ' '+\"Length after temp flag restriction: \")\n",
    "        print (len(data))\n",
    "        data=data[~data['winddir'].isna()]\n",
    "        print('Year: '+str(year)+ ' '+'Length after winddir nulls gone: ')\n",
    "        print(len(data)) \n",
    "    data=index(orig,data)\n",
    "    data=data.drop(['co_flag', 'humid', 'humid_flag', 'pm25', 'pm25_flag', 'so2', 'so2_flag', 'solar',  'solar_flag', 'dew', 'dew_flag', 'redraw', 'co', 'no_flag', 'no2_flag', 'nox_flag', 'o3_flag', 'winddir_flag', 'windspd_flag', 'temp_flag'], axis=1)\n",
    "    data.to_csv(out_path+str(year)+'_mark.csv', index=False)"
   ]
  },
  {
   "cell_type": "code",
   "execution_count": 32,
   "metadata": {},
   "outputs": [],
   "source": [
    "def index(orig, data):\n",
    "    good_indices=data.index\n",
    "    orig['val']=np.nan \n",
    "    good=orig.loc[good_indices].replace({'val': np.nan}, 'y')\n",
    "    bad_indices=orig.index.difference(good_indices)\n",
    "    bad=orig.loc[bad_indices].replace({'val': np.nan}, 'n')\n",
    "    orig=orig.drop(['val'], axis=1)\n",
    "    val=pd.concat([good, bad], axis=0, join='inner')\n",
    "    val=val.sort_index()\n",
    "    return val"
   ]
  },
  {
   "cell_type": "code",
   "execution_count": 50,
   "metadata": {},
   "outputs": [
    {
     "name": "stdout",
     "output_type": "stream",
     "text": [
      "Year: 2000 Initial length of data: \n",
      "95437\n",
      "Year: 2000 Length after o3 restriction: \n",
      "95436\n",
      "Year: 2000 Length after temp flag restriction: \n",
      "92621\n"
     ]
    }
   ],
   "source": [
    "#years=np.arange(2000,2018)\n",
    "years=[2000]\n",
    "for year in years:\n",
    "    transform(source_path,year)"
   ]
  }
 ],
 "metadata": {
  "kernelspec": {
   "display_name": "Python 3",
   "language": "python",
   "name": "python3"
  },
  "language_info": {
   "codemirror_mode": {
    "name": "ipython",
    "version": 3
   },
   "file_extension": ".py",
   "mimetype": "text/x-python",
   "name": "python",
   "nbconvert_exporter": "python",
   "pygments_lexer": "ipython3",
   "version": "3.7.1"
  }
 },
 "nbformat": 4,
 "nbformat_minor": 2
}
