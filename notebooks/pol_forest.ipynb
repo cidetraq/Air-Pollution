{
 "cells": [
  {
   "cell_type": "code",
   "execution_count": 1,
   "metadata": {},
   "outputs": [],
   "source": [
    "# Average window_stride elements together to form a single row\n",
    "WINDOW_STRIDE = 12\n",
    "\n",
    "SAMPLE_HOURS = WINDOW_STRIDE / 12.0\n",
    "\n",
    "# Number of future samples to mean for prediction\n",
    "PREDICTION_WINDOW = int(24 / SAMPLE_HOURS)\n",
    "\n",
    "# Length of the windowed sequence\n",
    "SEQUENCE_LENGTH = int(7*24 / SAMPLE_HOURS)\n",
    "\n",
    "# Input Features\n",
    "INPUT_COLUMNS = ['epoch', 'day_of_year', 'hour', 'temp', 'windspd', 'winddir', 'wind_x_dir', 'wind_y_dir', 'no', 'no2', 'nox', 'o3']\n",
    "OUTPUT_COLUMNS = ['no', 'no2', 'nox', 'o3']\n",
    "\n",
    "# Take the FFT of each sqeuence and use as features\n",
    "FFT_FEATURES = False\n",
    "\n",
    "# Fit the sequence to y = mx+b and add the coeff / intercept\n",
    "REGRESSION_FEATURES = True\n",
    "\n",
    "# Add variance for each feature in the sequence\n",
    "STD_FEATURES = True\n",
    "\n",
    "INPUT_MAP = {value: idx for idx, value in enumerate(INPUT_COLUMNS)}\n",
    "OUTPUT_MAP = {value: idx for idx, value in enumerate(OUTPUT_COLUMNS)}\n",
    "\n",
    "NUM_INPUTS = len(INPUT_COLUMNS)\n",
    "NUM_OUTPUTS = len(OUTPUT_COLUMNS)"
   ]
  },
  {
   "cell_type": "code",
   "execution_count": 3,
   "metadata": {},
   "outputs": [
    {
     "name": "stdout",
     "output_type": "stream",
     "text": [
      "(107900, 168, 12)\n",
      "(107900, 2)\n",
      "(107900, 27)\n",
      "(107900, 4)\n",
      "(107900, 2043)\n"
     ]
    }
   ],
   "source": [
    "import numpy as np\n",
    "\n",
    "data_sequences = np.load('000_sequences.npy')\n",
    "data_latlong = np.load('000_latlong_features.npy')\n",
    "data_sequence_features = np.load('000_sequence_features.npy')\n",
    "\n",
    "labels = np.load('000_labels.npy')\n",
    "\n",
    "data_sequences = data_sequences.reshape(data_sequences.shape[0], data_sequences.shape[1]*data_sequences.shape[2])\n",
    "\n",
    "data = np.concatenate((data_sequences, data_sequence_features), 1)\n"
   ]
  },
  {
   "cell_type": "code",
   "execution_count": 5,
   "metadata": {},
   "outputs": [],
   "source": [
    "# Train validation split\n",
    "from sklearn.model_selection import train_test_split\n",
    "\n",
    "X_train, X_test, y_train, y_test = train_test_split(\n",
    "    data, labels, test_size=0.2, random_state=42)"
   ]
  },
  {
   "cell_type": "code",
   "execution_count": null,
   "metadata": {},
   "outputs": [],
   "source": [
    "# Training\n",
    "\n",
    "from sklearn.ensemble import RandomForestRegressor\n",
    "\n",
    "best_r2 = None\n",
    "\n",
    "for epoch in range(0, 100):\n",
    "    regr = RandomForestRegressor(random_state=epoch, n_estimators=100, n_jobs=-1, verbose=0)\n",
    "    regr.fit(X_train, y_train)\n",
    "    r2 = regr.score(X_test, y_test)\n",
    "    \n",
    "    save = False\n",
    "    \n",
    "    if best_r2 is None:\n",
    "        print(\"epoch(%d) - R^2: %f\" % (epoch+1, r2))\n",
    "        best_r2 = r2\n",
    "        save = True\n",
    "    elif r2 > best_r2:\n",
    "        print(\"epoch(%d) - R^2 improved: %f (best: %f)\" % (epoch+1, r2, best_r2))\n",
    "        best_r2 = r2\n",
    "        save = True\n",
    "    else:\n",
    "        print(\"epoch(%d) - R^2 did not improve: %f (best: %f)\" % (epoch+1, r2, best_r2))\n",
    "    \n",
    "    if save:\n",
    "        open('random-forest.best.pickle', 'wb').write(pickle.dumps(regr))\n",
    "        open('scaler.best.pickle', 'wb').write(pickle.dumps(scaler))"
   ]
  },
  {
   "cell_type": "code",
   "execution_count": null,
   "metadata": {},
   "outputs": [],
   "source": []
  }
 ],
 "metadata": {
  "kernelspec": {
   "display_name": "Python 3",
   "language": "python",
   "name": "python3"
  },
  "language_info": {
   "codemirror_mode": {
    "name": "ipython",
    "version": 3
   },
   "file_extension": ".py",
   "mimetype": "text/x-python",
   "name": "python",
   "nbconvert_exporter": "python",
   "pygments_lexer": "ipython3",
   "version": "3.6.3"
  }
 },
 "nbformat": 4,
 "nbformat_minor": 2
}
