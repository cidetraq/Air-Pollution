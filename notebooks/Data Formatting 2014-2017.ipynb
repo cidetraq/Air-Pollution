{
 "cells": [
  {
   "cell_type": "code",
   "execution_count": 1,
   "metadata": {},
   "outputs": [],
   "source": [
    "import pandas as pd\n",
    "import numpy as np "
   ]
  },
  {
   "cell_type": "code",
   "execution_count": 6,
   "metadata": {},
   "outputs": [
    {
     "data": {
      "text/plain": [
       "'E:\\\\Google Drive\\\\Programming\\\\python\\\\DASH\\\\Air Pollution\\\\notebooks'"
      ]
     },
     "execution_count": 6,
     "metadata": {},
     "output_type": "execute_result"
    }
   ],
   "source": [
    "import os\n",
    "os.getcwd()"
   ]
  },
  {
   "cell_type": "code",
   "execution_count": 6,
   "metadata": {},
   "outputs": [],
   "source": [
    "def transform(year):\n",
    "    filename='Data_'+str(year)+'.csv'\n",
    "    source_path='/project/lindner/moving/summer2018/Data_structure_3/'\n",
    "    data=pd.read_csv(source_path+filename, low_memory=False)\n",
    "    #local\n",
    "    #data=pd.read_csv('../data-sample/100k/data'+str(year)+'_100k.csv')\n",
    "    print('Year: '+str(year)+ ' '+'Initial length of data: ')\n",
    "    print(len(data))\n",
    "    data=data[data['o3_flag']==\"K\"]\n",
    "    print('Year: '+str(year)+ ' '+'Length after o3 restriction: ')\n",
    "    print(len(data))\n",
    "    data=data[data['temp_flag']==\"K\"]\n",
    "    print('Year: '+str(year)+ ' '+\"Length after temp flag restriction: \")\n",
    "    print(len(data))\n",
    "    data=data[~data['winddir'].isna()]\n",
    "    print('Year: '+str(year)+ ' '+'Length after winddir nulls gone: ')\n",
    "    print(len(data))\n",
    "    #Dropping unnecessary columns\n",
    "    data=data.drop(['co_flag', 'humid', 'humid_flag', 'pm25', 'pm25_flag', 'so2', 'so2_flag', 'solar',  'solar_flag', 'dew', 'dew_flag', 'redraw', 'co', 'no_flag', 'no2_flag', 'nox_flag', 'o3_flag', 'winddir_flag', 'windspd_flag', 'temp_flag', 'no', 'no_flag', 'nox', 'nox_flag', 'no2', 'no2_flag'], axis=1)\n",
    "    data['hour']  = pd.to_datetime(data['epoch'], unit='s').dt.hour\n",
    "    data['day'] = pd.to_datetime(data['epoch'], unit='s').dt.day\n",
    "    data['month'] = pd.to_datetime(data['epoch'], unit='s').dt.month\n",
    "    data['year'] = year\n",
    "    data['wind_x_dir'] = data['windspd'] * np.cos(data['winddir']*(np.pi/180))\n",
    "    data['wind_y_dir'] = data['windspd'] * np.sin(data['winddir']*(np.pi/180))\n",
    "    data.to_csv('../data-sample/Data_'+str(year)+'_pre_no.csv', index=False)\n",
    "    #data.to_csv('Data_'+str(year)+'_100k.csv', index=False)"
   ]
  },
  {
   "cell_type": "code",
   "execution_count": 5,
   "metadata": {},
   "outputs": [
    {
     "name": "stdout",
     "output_type": "stream",
     "text": [
      "2016 Initial length of data: \n",
      "99999\n",
      "2016 Length after o3 restriction: \n",
      "54029\n",
      "2016 Length after temp flag restriction: \n",
      "44287\n",
      "2016 Length after winddir nulls gone: \n",
      "43741\n"
     ]
    }
   ],
   "source": [
    "years=np.arange(2016,2017)\n",
    "for year in years:\n",
    "    transform(year)"
   ]
  }
 ],
 "metadata": {
  "kernelspec": {
   "display_name": "Python 3",
   "language": "python",
   "name": "python3"
  },
  "language_info": {
   "codemirror_mode": {
    "name": "ipython",
    "version": 3
   },
   "file_extension": ".py",
   "mimetype": "text/x-python",
   "name": "python",
   "nbconvert_exporter": "python",
   "pygments_lexer": "ipython3",
   "version": "3.7.1"
  }
 },
 "nbformat": 4,
 "nbformat_minor": 2
}
