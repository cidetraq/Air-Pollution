{
 "cells": [
  {
   "cell_type": "code",
   "execution_count": null,
   "metadata": {},
   "outputs": [],
   "source": [
    "import pandas as pd\n",
    "import numpy as np\n",
    "import argparse "
   ]
  },
  {
   "cell_type": "code",
   "execution_count": null,
   "metadata": {},
   "outputs": [],
   "source": [
    "profiles={'cluster': {'input_source': '/project/lindner/moving/summer2018/Data_structure_3/', 'out_path': '/project/lindner/moving/summer2018/2019/data-formatted/mark/'},\n",
    "          'nicholas': {'input_source': 'D:/programming-no-gdrive/air-pollution/data/', 'out_path': 'D:/programming-no-gdrive/air-pollution/data-formatted/mark/'} , \n",
    "          'carroll': {} }"
   ]
  },
  {
   "cell_type": "code",
   "execution_count": null,
   "metadata": {},
   "outputs": [],
   "source": [
    "def main(user, years):\n",
    "    if profiles[user]=='nicholas':\n",
    "        import os\n",
    "        #local\n",
    "        os.chdir('../')\n",
    "    #years=np.arange(2000,2018)\n",
    "    if '-' in years:\n",
    "        year_arr=years.split('-')\n",
    "        years=np.arange(int(year_arr[0]), int(year_arr[1]))\n",
    "    else:\n",
    "        years=[years]\n",
    "    source_path=profiles[user]['input_source']\n",
    "    out_path=profiles[user]['out_path']\n",
    "    for year in years:\n",
    "        transform(source_path,year,out_path)"
   ]
  },
  {
   "cell_type": "code",
   "execution_count": null,
   "metadata": {},
   "outputs": [],
   "source": [
    "def transform(source_path,year,out_path):\n",
    "    filename='Data_'+str(year)+'.csv'\n",
    "    data=pd.read_csv(source_path+filename)\n",
    "    data['hour']  = pd.to_datetime(data['epoch'], unit='s').dt.hour\n",
    "    data['day'] = pd.to_datetime(data['epoch'], unit='s').dt.day\n",
    "    data['month'] = pd.to_datetime(data['epoch'], unit='s').dt.month\n",
    "    data['year'] = str(year)\n",
    "    try:\n",
    "        data=data[data['month']!='month']\n",
    "        data=data[data['day']!='day']\n",
    "        data=data[data['hour']!='hour']\n",
    "    except BaseException:\n",
    "        pass\n",
    "    data['wind_x_dir'] = data['windspd'] * np.cos(data['winddir']*(np.pi/180))\n",
    "    data['wind_y_dir'] = data['windspd'] * np.sin(data['winddir']*(np.pi/180))\n",
    "    orig=data\n",
    "    if year<2014:\n",
    "        print('Year: '+str(year)+ ' '+'Initial length of data: ')\n",
    "        print(len(data))\n",
    "        data=data[data['nox_flag']=='VAL']\n",
    "        data=data[data['no_flag']=='VAL']\n",
    "        data=data[data['o3_flag']==\"VAL\"]\n",
    "        print('Year: '+str(year)+ ' '+'Length after o3 restriction: ')\n",
    "        print(len(data))\n",
    "        data=data[data['temp_flag']==\"VAL\"]\n",
    "        print('Year: '+str(year)+ ' '+\"Length after temp flag restriction: \")\n",
    "        print(len(data))\n",
    "        data=data[~data['winddir'].isna()]\n",
    "        print('Year: '+str(year)+ ' '+'Length after winddir nulls gone: ')\n",
    "        print(len(data)) \n",
    "    if year>=2014:\n",
    "        print('Year: '+str(year)+ ' '+'Initial length of data: ')\n",
    "        print(len(data))\n",
    "        data=data[data['nox_flag']=='VAL']\n",
    "        data=data[data['no_flag']=='VAL']\n",
    "        data=data[data['o3_flag']==\"K\"]\n",
    "        print('Year: '+str(year)+ ' '+'Length after o3 restriction: ')\n",
    "        print(len(data))\n",
    "        data=data[data['temp_flag']==\"K\"]\n",
    "        print('Year: '+str(year)+ ' '+\"Length after temp flag restriction: \")\n",
    "        print (len(data))\n",
    "        data=data[~data['winddir'].isna()]\n",
    "        print('Year: '+str(year)+ ' '+'Length after winddir nulls gone: ')\n",
    "        print(len(data)) \n",
    "    data=index(orig,data)\n",
    "    data=data.drop(['co_flag', 'humid', 'humid_flag', 'pm25', 'pm25_flag', 'so2', 'so2_flag', 'solar',  'solar_flag', 'dew', 'dew_flag', 'redraw', 'co', 'no_flag', 'no2_flag', 'nox_flag', 'o3_flag', 'winddir_flag', 'windspd_flag', 'temp_flag'], axis=1)\n",
    "    data.to_csv(out_path+str(year)+'_mark.csv', index=False)"
   ]
  },
  {
   "cell_type": "code",
   "execution_count": null,
   "metadata": {},
   "outputs": [],
   "source": [
    "def index(orig, data):\n",
    "    good_indices=data.index\n",
    "    orig['val']=np.nan \n",
    "    good=orig.loc[good_indices].replace({'val': np.nan}, 'y')\n",
    "    bad_indices=orig.index.difference(good_indices)\n",
    "    bad=orig.loc[bad_indices].replace({'val': np.nan}, 'n')\n",
    "    orig=orig.drop(['val'], axis=1)\n",
    "    val=pd.concat([good, bad], axis=0, join='inner')\n",
    "    val=val.sort_index()\n",
    "    return val"
   ]
  },
  {
   "cell_type": "code",
   "execution_count": null,
   "metadata": {},
   "outputs": [],
   "source": [
    "if __name__=='__main__':\n",
    "    parser = argparse.ArgumentParser()\n",
    "    parser.add_argument(\"-u\", '--user', type=str,\n",
    "                        help=\"cluster, nicholas, carroll\")\n",
    "    parser.add_argument(\"-v\", \"--verbosity\", type=int, choices=[0, 1, 2],\n",
    "                        help=\"increase output verbosity\")\n",
    "    parser.add_argument('-y', '--years', type=str, help='type year range. full would be 2000-2018')\n",
    "    args = parser.parse_args()\n",
    "    main(args.user, args.years)"
   ]
  }
 ],
 "metadata": {
  "kernelspec": {
   "display_name": "Python 3",
   "language": "python",
   "name": "python3"
  },
  "language_info": {
   "codemirror_mode": {
    "name": "ipython",
    "version": 3
   },
   "file_extension": ".py",
   "mimetype": "text/x-python",
   "name": "python",
   "nbconvert_exporter": "python",
   "pygments_lexer": "ipython3",
   "version": "3.6.7"
  }
 },
 "nbformat": 4,
 "nbformat_minor": 2
}
