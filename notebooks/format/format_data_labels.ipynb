{
 "cells": [
  {
   "cell_type": "code",
   "execution_count": 1,
   "metadata": {},
   "outputs": [],
   "source": [
    "profiles={'cluster': {'in_path': '/project/lindner/moving/summer2018/2019/data-intermediate/', 'out_path': '/project/lindner/moving/summer2018/2019/data-intermediate/'}}"
   ]
  },
  {
   "cell_type": "code",
   "execution_count": null,
   "metadata": {},
   "outputs": [],
   "source": [
    "def create_data_labels(window_stride,nd_window):\n",
    "    import numpy as np\n",
    "    from collections import deque\n",
    "    import pickle\n",
    "    # Average window_stride elements together to form a single row\n",
    "\n",
    "    sample_hours = window_stride / 12.0\n",
    "    print(\"Sample Hours: %f\" % sample_hours)\n",
    "\n",
    "    # Number of future samples to mean for prediction\n",
    "    prediction_window = int(24 / sample_hours)\n",
    "    print(\"Prediction Window: %d\" % prediction_window)\n",
    "\n",
    "    # Length of the windowed sequence\n",
    "    sequence_length = int(7*24 / sample_hours)\n",
    "    print(\"Sequence Length: %d\" % sequence_length)\n",
    "\n",
    "    # Create sequences\n",
    "    data = []\n",
    "    labels = []\n",
    "\n",
    "\n",
    "    rows = deque(maxlen=sequence_length)\n",
    "\n",
    "    for idx, r in enumerate(nd_window):\n",
    "\n",
    "        rows.append([a for a in r])\n",
    "\n",
    "        # We need the entire sequence filled to make a prediction about the future mean\n",
    "        if len(rows) < sequence_length:\n",
    "            continue\n",
    "\n",
    "        # Since we are predicting the mean, make sure we do not go out of bounds in the future\n",
    "        if idx+1 + prediction_window > nd_window.shape[0]:\n",
    "            break\n",
    "\n",
    "        data.append(rows.copy())\n",
    "\n",
    "        # We are predicting the future mean values\n",
    "        u_24_no = np.mean( nd_window[idx+1 : idx+1 + prediction_window, 4] )\n",
    "        u_24_no2 = np.mean( nd_window[idx+1 : idx+1 + prediction_window, 5] )\n",
    "        u_24_nox = np.mean( nd_window[idx+1 : idx+1 + prediction_window, 6] )\n",
    "        u_24_o3 = np.mean( nd_window[idx+1 : idx+1 + prediction_window, 7] )\n",
    "\n",
    "        labels.append([u_24_no, u_24_no2, u_24_nox, u_24_o3])\n",
    "\n",
    "    data = np.array(data)\n",
    "    labels = np.array(labels)\n",
    "    return data,labels "
   ]
  },
  {
   "cell_type": "code",
   "execution_count": null,
   "metadata": {},
   "outputs": [],
   "source": [
    "def main(user, window_stride, filename):\n",
    "    in_path=profiles[user]['in_path']\n",
    "    out_path=profiles[user]['out_path']\n",
    "    nd_window=np.load(open(in_path+filename, 'rb'))\n",
    "    data, labels=create_data_labels(window_stride,nd_window)\n",
    "    pickle.dump(data, open(out_path+filename+'_data.ndarray', 'wb'), protocol=4)\n",
    "    pickle.dump(labels, open(out_path+filename+'_labels.ndarray', 'wb'), protocol=4)"
   ]
  },
  {
   "cell_type": "code",
   "execution_count": null,
   "metadata": {},
   "outputs": [],
   "source": [
    "if __name__=='__main__':\n",
    "    import argparse\n",
    "    parser = argparse.ArgumentParser()\n",
    "    parser.add_argument(\"-u\", '--user', type=str,\n",
    "                        help=\"cluster, nicholas, carroll\")\n",
    "    parser.add_argument('-w', '--window', type=int, help='window size')\n",
    "    parser.add_argument('-f', '--filename', type=str, help='filename')\n",
    "    args = parser.parse_args()\n",
    "    main(args.user, args.window, args.filename)"
   ]
  }
 ],
 "metadata": {
  "kernelspec": {
   "display_name": "Python 3",
   "language": "python",
   "name": "python3"
  },
  "language_info": {
   "codemirror_mode": {
    "name": "ipython",
    "version": 3
   },
   "file_extension": ".py",
   "mimetype": "text/x-python",
   "name": "python",
   "nbconvert_exporter": "python",
   "pygments_lexer": "ipython3",
   "version": "3.7.1"
  }
 },
 "nbformat": 4,
 "nbformat_minor": 2
}
