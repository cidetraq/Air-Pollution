{
 "cells": [
  {
   "cell_type": "code",
   "execution_count": 3,
   "metadata": {},
   "outputs": [],
   "source": [
    "import numpy as np \n",
    "import pandas as pd\n",
    "from sklearn.preprocessing import MinMaxScaler\n",
    "from sklearn.externals import joblib"
   ]
  },
  {
   "cell_type": "code",
   "execution_count": 7,
   "metadata": {},
   "outputs": [],
   "source": [
    "#Writing sample json file\n",
    "features_dict = {'features': [\"AQS_Code\", \"Latitude\", 'Longitude', 'epoch', 'no', 'no2', 'nox', 'o3', 'winddir', 'windspd']}\n",
    "import json\n",
    "with open('input_features.json', 'w') as outfile:\n",
    "    json.dump(features_dict, outfile)"
   ]
  },
  {
   "cell_type": "code",
   "execution_count": 9,
   "metadata": {},
   "outputs": [],
   "source": [
    "data = pd.read_csv('D:/programming-no-gdrive/air-pollution/data-sample/100k/data00_100000.csv')"
   ]
  },
  {
   "cell_type": "code",
   "execution_count": 1,
   "metadata": {},
   "outputs": [],
   "source": [
    "class minmaxer():\n",
    "    def __init__(self):\n",
    "        self.scaler = MinMaxScaler()\n",
    "    def save(self, outfile_name):\n",
    "        joblib.dump(self.scaler, outfile_name) \n",
    "    def load_data(self, in_path, infile_name):\n",
    "        self.input_array = np.load(in_path+infile_name)\n",
    "    def load(self, in_path, infile_name):\n",
    "        self.scaler = joblib.load(in_path+infile_name)\n",
    "    def scale(self, feature_names):\n",
    "        #with open(feature_names) as json_file:\n",
    "        #   features_dict = json.load(json_file)\n",
    "        self.scaler.fit(self.input_array)"
   ]
  },
  {
   "cell_type": "code",
   "execution_count": 4,
   "metadata": {},
   "outputs": [],
   "source": [
    "maxwell = minmaxer()"
   ]
  },
  {
   "cell_type": "code",
   "execution_count": 40,
   "metadata": {},
   "outputs": [],
   "source": [
    "maxwell.load('D:/programming-no-gdrive/air-pollution/data-intermediate/new_seqs/', '000_sequences.npy')"
   ]
  },
  {
   "cell_type": "code",
   "execution_count": 47,
   "metadata": {},
   "outputs": [],
   "source": [
    "maxwell.scale('input_features.json')"
   ]
  },
  {
   "cell_type": "code",
   "execution_count": 48,
   "metadata": {},
   "outputs": [],
   "source": [
    "maxwell.save('scaled_sample.pkl')"
   ]
  },
  {
   "cell_type": "code",
   "execution_count": 5,
   "metadata": {},
   "outputs": [],
   "source": [
    "#new\n",
    "maxwell.load('D:/programming-no-gdrive/DASH/Air Pollution/notebooks/format/', 'scaled_sample.npy')"
   ]
  },
  {
   "cell_type": "code",
   "execution_count": 6,
   "metadata": {},
   "outputs": [],
   "source": [
    "maxwell.save('scaled_sample2.pkl')"
   ]
  }
 ],
 "metadata": {
  "kernelspec": {
   "display_name": "Python [conda env:deep-learning]",
   "language": "python",
   "name": "conda-env-deep-learning-py"
  },
  "language_info": {
   "codemirror_mode": {
    "name": "ipython",
    "version": 3
   },
   "file_extension": ".py",
   "mimetype": "text/x-python",
   "name": "python",
   "nbconvert_exporter": "python",
   "pygments_lexer": "ipython3",
   "version": "3.6.7"
  }
 },
 "nbformat": 4,
 "nbformat_minor": 2
}
