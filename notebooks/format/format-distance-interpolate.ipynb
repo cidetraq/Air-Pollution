{
 "cells": [
  {
   "cell_type": "code",
   "execution_count": 3,
   "metadata": {},
   "outputs": [],
   "source": [
    "import pandas as pd\n",
    "import numpy as np\n",
    "import pickle\n",
    "import collections\n",
    "#Euclidean distance of two poin ts a and b. Use lat and long. \n",
    "#dist = numpy.linalg.norm(a-b)"
   ]
  },
  {
   "cell_type": "code",
   "execution_count": 4,
   "metadata": {},
   "outputs": [],
   "source": [
    "n=4"
   ]
  },
  {
   "cell_type": "code",
   "execution_count": 5,
   "metadata": {},
   "outputs": [],
   "source": [
    "#Calculate distances\n",
    "def calc_distances(df):\n",
    "    distances=[]\n",
    "    for a in df['AQS_Code'].unique():\n",
    "        lat=list(df[df['AQS_Code']==a]['Latitude'])[0]\n",
    "        long=list(df[df['AQS_Code']==a]['Longitude'])[0]\n",
    "        pointa=[lat,long]\n",
    "        distances_ab=[]\n",
    "        for b in df['AQS_Code'].unique():\n",
    "            if b!=a:\n",
    "                lat=list(df[df['AQS_Code']==b]['Latitude'])[0]\n",
    "                long=list(df[df['AQS_Code']==b]['Longitude'])[0]\n",
    "                pointb=[lat,long]\n",
    "                dist = np.linalg.norm([pointa,pointb])\n",
    "                distances_ab.append([dist, b])\n",
    "        distances.append(distances_ab)\n",
    "    return distances"
   ]
  },
  {
   "cell_type": "code",
   "execution_count": 7,
   "metadata": {},
   "outputs": [],
   "source": [
    "#Local\n",
    "df=pd.read_csv('D:/programming-no-gdrive/air-pollution/data-formatted/mpi-houston/Transformed_Data_2000.csv')\n",
    "#cluster\n",
    "#df=pd.read_csv('/project/lindner/moving/summer2018/2019/data-formatted/mpi-houston/Transformed_Data_2000.csv')"
   ]
  },
  {
   "cell_type": "code",
   "execution_count": 5,
   "metadata": {},
   "outputs": [],
   "source": [
    "distances=calc_distances(df)"
   ]
  },
  {
   "cell_type": "code",
   "execution_count": 6,
   "metadata": {},
   "outputs": [],
   "source": [
    "pickle.dump(distances, open('geo_distances.bin', 'wb'))"
   ]
  },
  {
   "cell_type": "code",
   "execution_count": 7,
   "metadata": {},
   "outputs": [],
   "source": [
    "aqs=df['AQS_Code'].unique()"
   ]
  },
  {
   "cell_type": "code",
   "execution_count": 8,
   "metadata": {},
   "outputs": [],
   "source": [
    "distances_dict={}\n",
    "for index, code in enumerate(aqs):\n",
    "    distances_dict[code]=distances[index]"
   ]
  },
  {
   "cell_type": "code",
   "execution_count": 9,
   "metadata": {},
   "outputs": [],
   "source": [
    "pickle.dump(distances_dict, open('geo_distances_dict.bin', 'wb'))"
   ]
  },
  {
   "cell_type": "code",
   "execution_count": 10,
   "metadata": {},
   "outputs": [],
   "source": [
    "sorted_distances=[]\n",
    "for site in distances:\n",
    "    site=sorted(site)\n",
    "    sorted_distances.append(site)"
   ]
  },
  {
   "cell_type": "code",
   "execution_count": 11,
   "metadata": {},
   "outputs": [],
   "source": [
    "sorted_distances_dict={}\n",
    "for index, code in enumerate(aqs):\n",
    "    sorted_distances_dict[code]=sorted_distances[index]"
   ]
  },
  {
   "cell_type": "code",
   "execution_count": 12,
   "metadata": {},
   "outputs": [],
   "source": [
    "pickle.dump(sorted_distances, open('geo_distances_sorted.bin', 'wb'))"
   ]
  },
  {
   "cell_type": "code",
   "execution_count": 13,
   "metadata": {},
   "outputs": [],
   "source": [
    "def weighting(aqs):\n",
    "    top_n=sorted_distances_dict[aqs][:n]\n",
    "    total_distance=sum([site[0] for site in top_n])\n",
    "    weights=[]\n",
    "    sites=[]\n",
    "    for site in top_n:\n",
    "        weight=site[0]/total_distance\n",
    "        weight=1-weight\n",
    "        weights.append([weight])\n",
    "        sites.append(site[1])\n",
    "    weights=softmax(weights)\n",
    "    return (weights, sites)"
   ]
  },
  {
   "cell_type": "code",
   "execution_count": 14,
   "metadata": {},
   "outputs": [],
   "source": [
    "def softmax(x):\n",
    "    \"\"\"Compute softmax values for each sets of scores in x.\"\"\"\n",
    "    e_x = np.exp(x - np.max(x))\n",
    "    return e_x / e_x.sum()"
   ]
  },
  {
   "cell_type": "code",
   "execution_count": 17,
   "metadata": {},
   "outputs": [
    {
     "data": {
      "text/plain": [
       "{'48_201_1034': (array([[0.25003218],\n",
       "         [0.24999327],\n",
       "         [0.24998995],\n",
       "         [0.2499846 ]]),\n",
       "  ['48_201_0572', '48_201_0803', '48_201_0551', '48_201_1049']),\n",
       " '48_201_0024': (array([[0.25003214],\n",
       "         [0.24999328],\n",
       "         [0.24998996],\n",
       "         [0.24998462]]),\n",
       "  ['48_201_0572', '48_201_0803', '48_201_0551', '48_201_1049']),\n",
       " '48_201_0057': (array([[0.25003218],\n",
       "         [0.24999327],\n",
       "         [0.24998995],\n",
       "         [0.2499846 ]]),\n",
       "  ['48_201_0572', '48_201_0803', '48_201_0551', '48_201_1049']),\n",
       " '48_201_0069': (array([[0.25003217],\n",
       "         [0.24999328],\n",
       "         [0.24998995],\n",
       "         [0.2499846 ]]),\n",
       "  ['48_201_0572', '48_201_0803', '48_201_0551', '48_201_1049']),\n",
       " '48_201_1035': (array([[0.25003217],\n",
       "         [0.24999328],\n",
       "         [0.24998995],\n",
       "         [0.2499846 ]]),\n",
       "  ['48_201_0572', '48_201_0803', '48_201_0551', '48_201_1049']),\n",
       " '48_201_0051': (array([[0.25003212],\n",
       "         [0.24999329],\n",
       "         [0.24998997],\n",
       "         [0.24998463]]),\n",
       "  ['48_201_0572', '48_201_0803', '48_201_0551', '48_201_1049']),\n",
       " '48_201_0551': (array([[0.25003458],\n",
       "         [0.24999566],\n",
       "         [0.24998698],\n",
       "         [0.24998278]]),\n",
       "  ['48_201_0572', '48_201_0803', '48_201_1049', '48_201_1034']),\n",
       " '48_201_0558': (array([[0.25003216],\n",
       "         [0.24999328],\n",
       "         [0.24998995],\n",
       "         [0.24998461]]),\n",
       "  ['48_201_0572', '48_201_0803', '48_201_0551', '48_201_1049']),\n",
       " '48_201_0572': (array([[0.25000623],\n",
       "         [0.2500029 ],\n",
       "         [0.24999754],\n",
       "         [0.24999334]]),\n",
       "  ['48_201_0803', '48_201_0551', '48_201_1049', '48_201_1034']),\n",
       " '48_201_0803': (array([[0.25003541],\n",
       "         [0.24999316],\n",
       "         [0.24998781],\n",
       "         [0.24998361]]),\n",
       "  ['48_201_0572', '48_201_0551', '48_201_1049', '48_201_1034']),\n",
       " '48_201_0669': (array([[0.25003218],\n",
       "         [0.24999327],\n",
       "         [0.24998995],\n",
       "         [0.2499846 ]]),\n",
       "  ['48_201_0572', '48_201_0803', '48_201_0551', '48_201_1049']),\n",
       " '48_201_0670': (array([[0.25003218],\n",
       "         [0.24999327],\n",
       "         [0.24998995],\n",
       "         [0.2499846 ]]),\n",
       "  ['48_201_0572', '48_201_0803', '48_201_0551', '48_201_1049']),\n",
       " '48_201_0671': (array([[0.25003218],\n",
       "         [0.24999327],\n",
       "         [0.24998995],\n",
       "         [0.2499846 ]]),\n",
       "  ['48_201_0572', '48_201_0803', '48_201_0551', '48_201_1049']),\n",
       " '48_201_0673': (array([[0.25003218],\n",
       "         [0.24999327],\n",
       "         [0.24998995],\n",
       "         [0.2499846 ]]),\n",
       "  ['48_201_0572', '48_201_0803', '48_201_0551', '48_201_1049']),\n",
       " '48_201_0695': (array([[0.25003215],\n",
       "         [0.24999328],\n",
       "         [0.24998996],\n",
       "         [0.24998461]]),\n",
       "  ['48_201_0572', '48_201_0803', '48_201_0551', '48_201_1049']),\n",
       " '48_201_6000': (array([[0.25003218],\n",
       "         [0.24999327],\n",
       "         [0.24998995],\n",
       "         [0.2499846 ]]),\n",
       "  ['48_201_0572', '48_201_0803', '48_201_0551', '48_201_1049']),\n",
       " '48_201_0307': (array([[0.25003217],\n",
       "         [0.24999328],\n",
       "         [0.24998995],\n",
       "         [0.2499846 ]]),\n",
       "  ['48_201_0572', '48_201_0803', '48_201_0551', '48_201_1049']),\n",
       " '48_201_1049': (array([[0.25003323],\n",
       "         [0.24999432],\n",
       "         [0.24999099],\n",
       "         [0.24998145]]),\n",
       "  ['48_201_0572', '48_201_0803', '48_201_0551', '48_201_1034'])}"
      ]
     },
     "execution_count": 17,
     "metadata": {},
     "output_type": "execute_result"
    }
   ],
   "source": [
    "weights_dict={}\n",
    "for code in aqs:\n",
    "    weights=weighting(code)\n",
    "    weights_dict[code]=weights\n",
    "weights_dict"
   ]
  },
  {
   "cell_type": "code",
   "execution_count": 43,
   "metadata": {},
   "outputs": [],
   "source": [
    "#pickle.dump(weights_dict, open('weights_dict.pkl', 'wb'))"
   ]
  },
  {
   "cell_type": "code",
   "execution_count": 8,
   "metadata": {},
   "outputs": [],
   "source": [
    "weights_dict=pickle.load(open('weights_dict.pkl', 'rb'))"
   ]
  },
  {
   "cell_type": "code",
   "execution_count": 9,
   "metadata": {},
   "outputs": [],
   "source": [
    "def get_neighbors(pol,sites,epoch,df):\n",
    "    pols=[]\n",
    "    for site in sites:\n",
    "        site_pol=df[(df['epoch']==epoch) & (df['AQS_Code']==site)]\n",
    "        site_pol=site_pol[pol]\n",
    "        if site_pol.isnull().all():\n",
    "            site_pol=np.nan\n",
    "            pols.append(site_pol)\n",
    "        else:\n",
    "            pols.append(site_pol.values.item())\n",
    "    return pols"
   ]
  },
  {
   "cell_type": "code",
   "execution_count": 10,
   "metadata": {},
   "outputs": [],
   "source": [
    "def count_and_weigh(pols, thresh, weights):\n",
    "    counts=collections.Counter(pols)\n",
    "    if counts[np.nan]>=thresh:\n",
    "        pol_weighted='insuf'\n",
    "    else:\n",
    "        pol_weighted=0.0 \n",
    "        for index, pol in enumerate(pols):\n",
    "            pol=weights[index]*pol\n",
    "            pol_weighted+=pol\n",
    "    return pol_weighted"
   ]
  },
  {
   "cell_type": "code",
   "execution_count": 27,
   "metadata": {},
   "outputs": [],
   "source": [
    "def infer_closeby(row, n, thresh):\n",
    "    #null=row.isnull().any()\n",
    "    aqs=row['AQS_Code']\n",
    "    epoch=row['epoch']\n",
    "    no=np.isnan(row['no'])\n",
    "    no2=np.isnan(row['no2'])\n",
    "    nox=np.isnan(row['nox'])\n",
    "    o3=np.isnan(row['o3'])\n",
    "    '''if row['no2']==np.nan:\n",
    "        no2=False\n",
    "    if row['nox']==np.nan:\n",
    "        nox=False\n",
    "    if row['o3']==np.nan:\n",
    "        o3=False'''\n",
    "    if no==False or no2==False or nox==False or o3==False:\n",
    "        profile=weights_dict[aqs]\n",
    "        sites=profile[1]\n",
    "        weights=profile[0]\n",
    "        if no==False:\n",
    "            no_pols=get_neighbors('no',sites,epoch,df)\n",
    "            no_weighted=count_and_weigh(no_pols, thresh, weights)\n",
    "            '''counts=collections.Counter(no_pols)\n",
    "            if counts[np.nan]>thresh:\n",
    "                no_pols='insuf'\n",
    "            else:\n",
    "                no_pols_weighted=[]\n",
    "                for index, pol in enumerate(no_pols):\n",
    "                    pol=weights[index]*pol\n",
    "                    no_pols_weighted.append(p ol)\n",
    "                no_pols=no_pols_weighted'''\n",
    "        else:\n",
    "            no_weighted=row['no']\n",
    "        if no2==False:\n",
    "            no2_pols=get_neighbors('no2', sites,epoch,df)\n",
    "            no2_weighted=count_and_weigh(no2_pols, thresh, weights)\n",
    "        else: \n",
    "            no2_weighted=row['no2']\n",
    "        if nox==False:\n",
    "            nox_pols=get_neighbors('nox', sites,epoch,df)\n",
    "            nox_weighted=count_and_weigh(nox_pols, thresh, weights)\n",
    "        else:\n",
    "            nox_weighted=row['nox']\n",
    "        if o3==False:\n",
    "            o3_pols=get_neighbors('o3', sites,epoch,df)\n",
    "            o3_weighted=count_and_weigh(o3_pols, thresh, weights)\n",
    "        else:\n",
    "            o3_weighted=row['o3']\n",
    "        print([no_weighted,no2_weighted,nox_weighted,o3_weighted])\n",
    "        return [no_weighted,no2_weighted,nox_weighted,o3_weighted]\n",
    "    else:\n",
    "        pass"
   ]
  },
  {
   "cell_type": "code",
   "execution_count": 12,
   "metadata": {},
   "outputs": [],
   "source": [
    "nulls=df[df.isnull().any(axis=1)]\n",
    "nulls_no=nulls[nulls['no'].isnull()]"
   ]
  },
  {
   "cell_type": "code",
   "execution_count": 22,
   "metadata": {},
   "outputs": [],
   "source": [
    "nulls_no=nulls_no.iloc[:100]"
   ]
  },
  {
   "cell_type": "code",
   "execution_count": 23,
   "metadata": {},
   "outputs": [
    {
     "data": {
      "text/plain": [
       "array([949518900, 965855700, 965856000, 965856300, 965856600, 965856900,\n",
       "       965857200, 965857500, 965857800, 965858100, 965858400, 965858700,\n",
       "       965859000, 965859300, 965859600, 946864800, 946865100, 946865400,\n",
       "       946865700, 946866000, 946866300, 946866600, 946866900, 946867200,\n",
       "       946867500, 946867800, 946868100, 946868400, 946868700, 946869000,\n",
       "       946869300, 946869600, 946869900, 946870200, 946870500, 946870800,\n",
       "       946871100, 946871400, 946871700, 946872000, 946872300, 946872600,\n",
       "       946872900, 946873200, 946873500, 946873800, 946874100, 946874400,\n",
       "       946874700, 946875000, 946875300, 946875600, 946925400, 946925700,\n",
       "       947010300, 947010600, 947010900, 947011200, 947011500, 947011800,\n",
       "       947012100, 947012400, 947012700, 947124000, 947124300, 947124600,\n",
       "       947124900, 947125200, 947125500, 947125800, 947126100, 947126400,\n",
       "       947126700, 947127000, 947127300, 947127600, 947127900, 947128200,\n",
       "       947128500, 947128800, 947129100, 947129400, 947129700, 947130000,\n",
       "       947130300, 947130600, 947130900, 947131200, 947131500, 947131800,\n",
       "       947132100, 947132400, 947132700, 947133000, 947133300, 947133600,\n",
       "       947133900, 947134200, 947134500, 947134800], dtype=int64)"
      ]
     },
     "execution_count": 23,
     "metadata": {},
     "output_type": "execute_result"
    }
   ],
   "source": [
    "epochs=nulls_no['epoch'].unique()\n",
    "epochs "
   ]
  },
  {
   "cell_type": "code",
   "execution_count": 24,
   "metadata": {},
   "outputs": [
    {
     "data": {
      "text/plain": [
       "100"
      ]
     },
     "execution_count": 24,
     "metadata": {},
     "output_type": "execute_result"
    }
   ],
   "source": [
    "len(epochs)"
   ]
  },
  {
   "cell_type": "code",
   "execution_count": 18,
   "metadata": {},
   "outputs": [
    {
     "data": {
      "text/plain": [
       "array([18, 17, 16, 15], dtype=int64)"
      ]
     },
     "execution_count": 18,
     "metadata": {},
     "output_type": "execute_result"
    }
   ],
   "source": [
    "nulls_no['epoch'].value_counts().unique()"
   ]
  },
  {
   "cell_type": "code",
   "execution_count": 19,
   "metadata": {},
   "outputs": [],
   "source": [
    "epoch_splits=np.split(epochs,144) "
   ]
  },
  {
   "cell_type": "code",
   "execution_count": 25,
   "metadata": {},
   "outputs": [],
   "source": [
    "epoch_splits=np.split(epochs, 10)"
   ]
  },
  {
   "cell_type": "code",
   "execution_count": 42,
   "metadata": {},
   "outputs": [
    {
     "name": "stdout",
     "output_type": "stream",
     "text": [
      "Counter({nan: 3, 29.54112000000001: 1})\n",
      "Counter({nan: 3, 44.40188: 1})\n",
      "Counter({nan: 3, 23.02015: 1})\n",
      "Counter({nan: 3, 5.24212: 1})\n",
      "Counter({nan: 3, 6.55512: 1})\n",
      "Counter({nan: 3, 20.659589999999998: 1})\n",
      "Counter({nan: 3, 9.946819999999999: 1})\n",
      "Counter({nan: 3, 13.336620000000002: 1})\n",
      "Counter({nan: 3, 24.4728: 1})\n",
      "Counter({nan: 3, 17.96032: 1})\n",
      "Counter({nan: 3, 22.41186: 1})\n",
      "Counter({nan: 3, 22.29382: 1})\n",
      "Counter({nan: 3, -6.1318800000000016: 1})\n",
      "Counter({nan: 3, 417.4841: 1})\n",
      "Counter({nan: 3, 19.75168: 1})\n",
      "Counter({nan: 3, 13.410720000000001: 1})\n",
      "Counter({nan: 3, 168.11441000000005: 1})\n",
      "Counter({nan: 3, 22.02145: 1})\n",
      "Counter({nan: 3, -4.68428: 1})\n",
      "Counter({nan: 3, 74.76903: 1})\n",
      "Counter({nan: 3, 20.84117: 1})\n",
      "Counter({nan: 3, -4.5808800000000005: 1})\n",
      "Counter({nan: 3, 73.52244: 1})\n",
      "Counter({nan: 3, 22.11224: 1})\n",
      "Counter({nan: 3, -6.1318800000000016: 1})\n",
      "Counter({nan: 3, 340.8431700000001: 1})\n",
      "Counter({nan: 3, 21.83987: 1})\n",
      "Counter({nan: 3, -6.1318800000000016: 1})\n",
      "Counter({nan: 3, 420.92474000000004: 1})\n",
      "Counter({nan: 3, 21.20433: 1})\n"
     ]
    }
   ],
   "source": [
    "#inferred=nulls_no.apply(lambda x: infer_closeby(x, 4,3), axis=1)"
   ]
  },
  {
   "cell_type": "code",
   "execution_count": 28,
   "metadata": {},
   "outputs": [
    {
     "name": "stdout",
     "output_type": "stream",
     "text": [
      "Epoch 949518900\n",
      "Epoch 965855700\n",
      "Epoch 965856000\n",
      "Epoch 965856300\n",
      "Epoch 965856600\n",
      "Epoch 965856900\n",
      "Epoch 965857200\n",
      "Epoch 965857500\n",
      "Epoch 965857800\n",
      "Epoch 965858100\n",
      "Epoch 965858400\n",
      "Epoch 965858700\n",
      "Epoch 965859000\n",
      "Epoch 965859300\n",
      "Epoch 965859600\n",
      "Epoch 946864800\n",
      "[nan, 'insuf', 'insuf', 'insuf']\n",
      "Epoch 946865100\n",
      "[nan, 'insuf', 'insuf', 'insuf']\n",
      "Epoch 946865400\n",
      "[nan, 'insuf', 'insuf', 'insuf']\n",
      "Epoch 946865700\n",
      "[nan, 'insuf', 'insuf', 'insuf']\n",
      "Epoch 946866000\n",
      "[nan, 'insuf', 'insuf', 'insuf']\n",
      "Epoch 946866300\n",
      "[nan, 'insuf', 'insuf', 'insuf']\n",
      "Epoch 946866600\n",
      "[nan, 'insuf', 'insuf', 'insuf']\n",
      "Epoch 946866900\n",
      "[nan, 'insuf', 'insuf', 'insuf']\n",
      "Epoch 946867200\n",
      "[nan, 'insuf', 'insuf', 'insuf']\n",
      "Epoch 946867500\n",
      "[nan, 'insuf', 'insuf', 'insuf']\n",
      "Epoch 946867800\n",
      "[nan, 'insuf', 'insuf', 'insuf']\n",
      "Epoch 946868100\n",
      "[nan, 'insuf', 'insuf', 'insuf']\n",
      "Epoch 946868400\n",
      "[nan, 'insuf', 'insuf', 'insuf']\n",
      "Epoch 946868700\n",
      "[nan, 'insuf', 'insuf', 'insuf']\n",
      "Epoch 946869000\n",
      "[nan, 'insuf', 'insuf', 'insuf']\n",
      "Epoch 946869300\n",
      "[nan, 'insuf', 'insuf', 'insuf']\n",
      "Epoch 946869600\n",
      "[nan, 'insuf', 'insuf', 'insuf']\n",
      "Epoch 946869900\n",
      "[nan, 'insuf', 'insuf', 'insuf']\n",
      "Epoch 946870200\n",
      "[nan, 'insuf', 'insuf', 'insuf']\n",
      "Epoch 946870500\n",
      "[nan, 'insuf', 'insuf', 'insuf']\n",
      "Epoch 946870800\n",
      "[nan, 'insuf', 'insuf', 'insuf']\n",
      "Epoch 946871100\n",
      "[nan, 'insuf', 'insuf', 'insuf']\n",
      "Epoch 946871400\n",
      "[nan, 'insuf', 'insuf', 'insuf']\n",
      "Epoch 946871700\n",
      "[nan, 'insuf', 'insuf', 'insuf']\n",
      "Epoch 946872000\n",
      "[nan, 'insuf', 'insuf', 'insuf']\n",
      "Epoch 946872300\n",
      "[nan, 'insuf', 'insuf', 'insuf']\n",
      "Epoch 946872600\n",
      "[nan, 'insuf', 'insuf', 'insuf']\n",
      "Epoch 946872900\n",
      "[nan, 'insuf', 'insuf', 'insuf']\n",
      "Epoch 946873200\n",
      "[nan, 'insuf', 'insuf', 'insuf']\n",
      "Epoch 946873500\n",
      "[nan, 'insuf', 'insuf', 'insuf']\n",
      "Epoch 946873800\n",
      "[nan, 'insuf', 'insuf', 'insuf']\n",
      "Epoch 946874100\n",
      "[nan, 'insuf', 'insuf', 'insuf']\n",
      "Epoch 946874400\n",
      "[nan, 'insuf', 'insuf', 'insuf']\n",
      "Epoch 946874700\n",
      "[nan, 'insuf', 'insuf', 'insuf']\n",
      "Epoch 946875000\n",
      "[nan, 'insuf', 'insuf', 'insuf']\n",
      "Epoch 946875300\n",
      "[nan, 'insuf', 'insuf', 'insuf']\n",
      "Epoch 946875600\n",
      "[nan, 'insuf', 'insuf', 'insuf']\n",
      "Epoch 946925400\n",
      "[nan, 'insuf', 'insuf', 'insuf']\n",
      "Epoch 946925700\n",
      "[nan, 'insuf', 'insuf', 'insuf']\n",
      "Epoch 947010300\n",
      "[nan, 'insuf', 'insuf', 'insuf']\n",
      "Epoch 947010600\n",
      "[nan, 'insuf', 'insuf', 'insuf']\n",
      "Epoch 947010900\n",
      "[nan, 'insuf', 'insuf', 'insuf']\n",
      "Epoch 947011200\n",
      "[nan, 'insuf', 'insuf', 'insuf']\n",
      "Epoch 947011500\n",
      "[nan, 'insuf', 'insuf', 'insuf']\n",
      "Epoch 947011800\n",
      "[nan, 'insuf', 'insuf', 'insuf']\n",
      "Epoch 947012100\n",
      "[nan, 'insuf', 'insuf', 'insuf']\n",
      "Epoch 947012400\n",
      "[nan, 'insuf', 'insuf', 'insuf']\n",
      "Epoch 947012700\n",
      "[nan, 'insuf', 'insuf', 'insuf']\n",
      "Epoch 947124000\n",
      "[nan, 'insuf', 'insuf', 'insuf']\n",
      "Epoch 947124300\n",
      "[nan, 'insuf', 'insuf', 'insuf']\n",
      "Epoch 947124600\n",
      "[nan, 'insuf', 'insuf', 'insuf']\n",
      "Epoch 947124900\n",
      "[nan, 'insuf', 'insuf', 'insuf']\n",
      "Epoch 947125200\n",
      "[nan, 'insuf', 'insuf', 'insuf']\n",
      "Epoch 947125500\n",
      "[nan, 'insuf', 'insuf', 'insuf']\n",
      "Epoch 947125800\n",
      "[nan, 'insuf', 'insuf', 'insuf']\n",
      "Epoch 947126100\n",
      "[nan, 'insuf', 'insuf', 'insuf']\n",
      "Epoch 947126400\n",
      "[nan, 'insuf', 'insuf', 'insuf']\n",
      "Epoch 947126700\n",
      "[nan, 'insuf', 'insuf', 'insuf']\n",
      "Epoch 947127000\n",
      "[nan, 'insuf', 'insuf', 'insuf']\n",
      "Epoch 947127300\n",
      "[nan, 'insuf', 'insuf', 'insuf']\n",
      "Epoch 947127600\n",
      "[nan, 'insuf', 'insuf', 'insuf']\n",
      "Epoch 947127900\n",
      "[nan, 'insuf', 'insuf', 'insuf']\n",
      "Epoch 947128200\n",
      "[nan, 'insuf', 'insuf', 'insuf']\n",
      "Epoch 947128500\n",
      "[nan, 'insuf', 'insuf', 'insuf']\n",
      "Epoch 947128800\n",
      "[nan, 'insuf', 'insuf', 'insuf']\n",
      "Epoch 947129100\n",
      "[nan, 'insuf', 'insuf', 'insuf']\n",
      "Epoch 947129400\n",
      "[nan, 'insuf', 'insuf', 'insuf']\n",
      "Epoch 947129700\n",
      "[nan, 'insuf', 'insuf', 'insuf']\n",
      "Epoch 947130000\n",
      "[nan, 'insuf', 'insuf', 'insuf']\n",
      "Epoch 947130300\n",
      "[nan, 'insuf', 'insuf', 'insuf']\n",
      "Epoch 947130600\n",
      "[nan, 'insuf', 'insuf', 'insuf']\n",
      "Epoch 947130900\n",
      "[nan, 'insuf', 'insuf', 'insuf']\n",
      "Epoch 947131200\n",
      "[nan, 'insuf', 'insuf', 'insuf']\n",
      "Epoch 947131500\n",
      "[nan, 'insuf', 'insuf', 'insuf']\n",
      "Epoch 947131800\n",
      "[nan, 'insuf', 'insuf', 'insuf']\n",
      "Epoch 947132100\n",
      "[nan, 'insuf', 'insuf', 'insuf']\n",
      "Epoch 947132400\n",
      "[nan, 'insuf', 'insuf', 'insuf']\n",
      "Epoch 947132700\n",
      "[nan, 'insuf', 'insuf', 'insuf']\n",
      "Epoch 947133000\n",
      "[nan, 'insuf', 'insuf', 'insuf']\n",
      "Epoch 947133300\n",
      "[nan, 'insuf', 'insuf', 'insuf']\n",
      "Epoch 947133600\n",
      "[nan, 'insuf', 'insuf', 'insuf']\n",
      "Epoch 947133900\n",
      "[nan, 'insuf', 'insuf', 'insuf']\n",
      "Epoch 947134200\n",
      "[nan, 'insuf', 'insuf', 'insuf']\n",
      "Epoch 947134500\n",
      "[nan, 'insuf', 'insuf', 'insuf']\n",
      "Epoch 947134800\n",
      "[nan, 'insuf', 'insuf', 'insuf']\n"
     ]
    },
    {
     "data": {
      "text/plain": [
       "[]"
      ]
     },
     "execution_count": 28,
     "metadata": {},
     "output_type": "execute_result"
    }
   ],
   "source": [
    "inferred=[]\n",
    "for split in epoch_splits:\n",
    "    inferred_split=[]\n",
    "    for epoch in split:\n",
    "        print('Epoch '+ str(epoch))\n",
    "        inferred_slice=nulls_no[nulls_no['epoch']==epoch].apply(lambda x: infer_closeby(x, 4,3), axis=1)\n",
    "        inferred_split.append(inferred_slice) \n",
    "inferred"
   ]
  },
  {
   "cell_type": "code",
   "execution_count": 47,
   "metadata": {},
   "outputs": [],
   "source": [
    "inferred.to_csv('inferred.csv')"
   ]
  }
 ],
 "metadata": {
  "kernelspec": {
   "display_name": "Python [conda env:deep-learning]",
   "language": "python",
   "name": "conda-env-deep-learning-py"
  },
  "language_info": {
   "codemirror_mode": {
    "name": "ipython",
    "version": 3
   },
   "file_extension": ".py",
   "mimetype": "text/x-python",
   "name": "python",
   "nbconvert_exporter": "python",
   "pygments_lexer": "ipython3",
   "version": "3.6.7"
  }
 },
 "nbformat": 4,
 "nbformat_minor": 2
}
