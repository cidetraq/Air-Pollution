{
 "cells": [
  {
   "cell_type": "code",
   "execution_count": 14,
   "metadata": {},
   "outputs": [
    {
     "name": "stderr",
     "output_type": "stream",
     "text": [
      "/Users/carroll/anaconda3/envs/pollen/lib/python3.6/site-packages/sklearn/preprocessing/data.py:323: DataConversionWarning: Data with input dtype int64, float64 were all converted to float64 by MinMaxScaler.\n",
      "  return self.partial_fit(X, y)\n"
     ]
    }
   ],
   "source": [
    "%matplotlib inline\n",
    "import pandas\n",
    "import matplotlib\n",
    "import numpy as np\n",
    "from collections import deque\n",
    "import matplotlib.pyplot as plt\n",
    "from sklearn.preprocessing import MinMaxScaler\n",
    "\n",
    "columns = ['hour', 'last_windspd', 'last_no', 'last_no2', 'last_nox', 'last_o3', 'no', 'no2', 'nox', 'o3']\n",
    "\n",
    "plt.rcParams[\"figure.figsize\"] = (20, 12)\n",
    "plt.rcParams.update({'font.size': 22})\n",
    "\n",
    "df = pandas.read_csv('data00_100000_clean.csv')\n",
    "df = df.drop(['AQS_Code', 'Latitude', 'Longitude', 'epoch', 'winddir', 'time', 'date', 'day'], axis=1)\n",
    "df['last_windspd'] = df['windspd'].shift(1)\n",
    "df['last_no'] = df['no'].shift(1)\n",
    "df['last_no2'] = df['no2'].shift(1)\n",
    "df['last_nox'] = df['nox'].shift(1)\n",
    "df['last_o3'] = df['o3'].shift(1)\n",
    "df = df.drop(df.index[[0]])\n",
    "\n",
    "scaler = MinMaxScaler()\n",
    "scaler.fit(df[columns])\n",
    "\n",
    "df = scaler.transform(df[columns])\n",
    "\n",
    "# Create sequences\n",
    "sequence_length = 32\n",
    "num_inputs = 6\n",
    "num_outputs = 4\n",
    "\n",
    "\n",
    "data = []\n",
    "labels = []\n",
    "\n",
    "rows = deque(maxlen=sequence_length)\n",
    "\n",
    "for idx, r in enumerate(df):\n",
    "\n",
    "    rows.append([r[0], r[1], r[2], r[3], r[4], r[5]])\n",
    "    \n",
    "    if len(rows) < sequence_length:\n",
    "        continue\n",
    "        \n",
    "    data.append(rows.copy())\n",
    "    \n",
    "    labels.append([r[6], r[7], r[8], r[9]])\n",
    "\n",
    "data = np.array(data)\n",
    "data.resize((len(data), sequence_length*num_inputs))\n",
    "labels = np.array(labels)\n",
    "\n",
    "from sklearn.model_selection import train_test_split\n",
    "\n",
    "X_train, X_test, y_train, y_test = train_test_split(\n",
    "    data, labels, test_size=0.33, random_state=42)"
   ]
  },
  {
   "cell_type": "code",
   "execution_count": 18,
   "metadata": {},
   "outputs": [
    {
     "data": {
      "text/plain": [
       "0.9793417644856737"
      ]
     },
     "execution_count": 18,
     "metadata": {},
     "output_type": "execute_result"
    }
   ],
   "source": [
    "from sklearn.ensemble import RandomForestRegressor\n",
    "\n",
    "regr = RandomForestRegressor(random_state=0, n_estimators=100)\n",
    "regr.fit(X_train, y_train)\n",
    "regr.score(X_test, y_test)\n",
    "\n"
   ]
  },
  {
   "cell_type": "code",
   "execution_count": null,
   "metadata": {},
   "outputs": [],
   "source": []
  }
 ],
 "metadata": {
  "kernelspec": {
   "display_name": "Python 3",
   "language": "python",
   "name": "python3"
  },
  "language_info": {
   "codemirror_mode": {
    "name": "ipython",
    "version": 3
   },
   "file_extension": ".py",
   "mimetype": "text/x-python",
   "name": "python",
   "nbconvert_exporter": "python",
   "pygments_lexer": "ipython3",
   "version": "3.6.7"
  }
 },
 "nbformat": 4,
 "nbformat_minor": 2
}
